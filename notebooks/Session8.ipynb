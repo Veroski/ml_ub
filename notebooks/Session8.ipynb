{
 "cells": [
  {
   "cell_type": "markdown",
   "metadata": {},
   "source": [
    "# Neural Networks\n",
    "Notebook adapted and inspired from: https://github.com/ageron/handson-ml2/blob/master/10_neural_nets_with_keras.ipynb\n",
    "\n",
    "Tree-based methods are **simple** and **useful for interpretation**. However they typically are not competitive with the best supervised learning approaches in terms of prediction accuracy.\n",
    "\n",
    "**Bagging**, **Random Forests**, and **boosting** grows multiple trees which are then combined to yield a single consensus prediction. Combining a large number of trees can often result in dramatic improvements in prediction accuracy, at the expense of some loss interpretation."
   ]
  },
  {
   "cell_type": "code",
   "execution_count": 11,
   "metadata": {},
   "outputs": [
    {
     "data": {
      "text/html": [
       "<style>.container { width:100% !important; }</style>"
      ],
      "text/plain": [
       "<IPython.core.display.HTML object>"
      ]
     },
     "metadata": {},
     "output_type": "display_data"
    }
   ],
   "source": [
    "# some imports\n",
    "from IPython.core.display import display, HTML\n",
    "display(HTML(\"<style>.container { width:100% !important; }</style>\"))\n",
    "\n",
    "# Python ≥3.5 is required\n",
    "import sys\n",
    "assert sys.version_info >= (3, 5)\n",
    "\n",
    "# Scikit-Learn ≥0.20 is required\n",
    "import sklearn\n",
    "assert sklearn.__version__ >= \"0.20\"\n",
    "\n",
    "\n",
    "# TensorFlow ≥2.0 is required\n",
    "import tensorflow as tf\n",
    "assert tf.__version__ >= \"2.0\"\n",
    "\n",
    "\n",
    "# Common imports\n",
    "import numpy as np\n",
    "import os\n",
    "\n",
    "# to make this notebook's output stable across runs\n",
    "np.random.seed(42)\n",
    "\n",
    "# To plot pretty figures\n",
    "%matplotlib inline\n",
    "import matplotlib as mpl\n",
    "import matplotlib.pyplot as plt\n",
    "mpl.rc('axes', labelsize=14)\n",
    "mpl.rc('xtick', labelsize=12)\n",
    "mpl.rc('ytick', labelsize=12)\n",
    "plt.rc('font', size=12) \n",
    "plt.rc('figure', figsize = (12, 5))\n",
    "\n",
    "# Settings for the visualizations\n",
    "#import seaborn as sns\n",
    "#sns.set_style(\"whitegrid\")\n",
    "#sns.set_context(\"notebook\", font_scale=1, rc={\"lines.linewidth\": 2,'font.family': [u'times']})\n",
    "\n",
    "import pandas as pd\n",
    "pd.set_option('display.max_rows', 25)\n",
    "pd.set_option('display.max_columns', 500)\n",
    "pd.set_option('display.max_colwidth', 50)\n",
    "\n",
    "# Ignore useless warnings (see SciPy issue #5998)\n",
    "import warnings\n",
    "warnings.filterwarnings(action=\"ignore\", message=\"^internal gelsd\")"
   ]
  },
  {
   "cell_type": "markdown",
   "metadata": {},
   "source": [
    "# Neural Networks\n",
    "\n",
    "Neural nets are a specific method for learning from data, a method that is based on a very simple element, the *neuron unit*. A neuron unit (or 1-layer neural network) is a mathematical function of this kind:\n",
    "\n",
    "${\\mathbf y} = \\sigma(\\mathbf{w}^T \\cdot {\\mathbf x} + b)$\n",
    "\n",
    "where ${\\mathbf x}$ represents an input element in vector form, $\\mathbf{w}$ is a vector of weights,  $\\sigma$ is a non-linear function and $b$ a scalar value. $(\\mathbf{w},b)$ are called the parameters of the function. The output of this function is called the *activation* of the neuron. \n",
    "\n",
    "Regarding the non-linear function, historically the most common one was the Sigmoid function, but nowadays there are several alternatives that are supposed to be better suited to learning from data, such as ReLU and variants.\n",
    "\n",
    "> **Q:** What kind of decision functions are represented by a 1-layer nn?"
   ]
  },
  {
   "cell_type": "code",
   "execution_count": 12,
   "metadata": {},
   "outputs": [
    {
     "data": {
      "text/plain": [
       "[<matplotlib.lines.Line2D at 0x7fae8e4936d0>]"
      ]
     },
     "execution_count": 12,
     "metadata": {},
     "output_type": "execute_result"
    },
    {
     "data": {
      "image/png": "[encoded data removed]",
      "text/plain": [
       "<Figure size 864x360 with 2 Axes>"
      ]
     },
     "metadata": {
      "needs_background": "light"
     },
     "output_type": "display_data"
    }
   ],
   "source": [
    "import numpy as np\n",
    "import matplotlib.pylab as plt\n",
    "\n",
    "def sigmoid(x):\n",
    "    return 1 / (1 + np.exp(-x))\n",
    "\n",
    "def ReLU(x):\n",
    "    return x * (x > 0)\n",
    "\n",
    "plt.ylim(-1.5, 10)\n",
    "x = np.linspace(-10.0,10.0,100)\n",
    "y1 = sigmoid(x)\n",
    "plt.subplot(2, 1, 1)\n",
    "plt.plot(x,y1)\n",
    "y2 = ReLU(x)\n",
    "plt.subplot(2, 1, 2)\n",
    "plt.plot(x,y2,'r')"
   ]
  },
  {
   "cell_type": "code",
   "execution_count": 13,
   "metadata": {},
   "outputs": [
    {
     "name": "stdout",
     "output_type": "stream",
     "text": [
      "0.9994997988929205\n"
     ]
    }
   ],
   "source": [
    "x = np.array([0.4,1.2,3.5])\n",
    "\n",
    "w = np.array([1.0,2.0,1.0])\n",
    "b = 1.3\n",
    "\n",
    "y = sigmoid(np.dot(x,w) + b)\n",
    "\n",
    "print(y)"
   ]
  },
  {
   "cell_type": "markdown",
   "metadata": {},
   "source": [
    "## Multilayer neural networks\n",
    "\n",
    "Simple neurons can be organized in larger structures by applying to the same data vector different sets of weights, forming what is called a *layer*, and by stacking layers one on top of the output of the other.  \n",
    "\n",
    "It is important to notice that a multilayer neural network can be seen as a composition of matrix products (matrices represent weights) and non-linear function activations. For the case of a 2-layer network the outcome is:\n",
    "\n",
    "$ {\\mathbf y} = {\\mathbf \\sigma}\\Big( W^1  {\\mathbf \\sigma}\\Big( W^0  {\\mathbf x} + {\\mathbf b}^0 \\Big) + {\\mathbf b}^1 \\Big)$\n",
    "\n",
    "where ${\\mathbf \\sigma}$ represents a vectorial version of the sigmoid function and $W^i$ are the weights of each layer in matrix form.  \n",
    "\n",
    "What is interesting about this kind of structures is that it has been showed that even a neural network with a single hidden layer containing a finite number of neurons can approximate any continuous function of $\\mathbf{R}^n$. This fact makes neural networks a sound candidate to implement learning from data methods. The question is then: how to find the optimal parameters, ${\\mathbf w} = (W^i,{\\mathbf b})$, to approximate a function that is implicitly defined by a set of samples $\\{({\\mathbf x}_1, {\\mathbf y}_1), \\dots,  ({\\mathbf x}_n, {\\mathbf y}_n)\\}$?\n",
    "\n",
    "From a technical point of view, not only neural networks but most of the algorithms that have been proposed to infer models from large data sets are based on the iterative solution of a mathematical problem that involves data and a mathematical model. If there was an analytic solution to the problem, this should be the adopted one, but this is not the case for most of the cases. The techniques that have been designed to tackle these problems are grouped under a field that is called optimization. The most important technique for solving optimization problems is *gradient descend*.\n",
    "\n",
    "> The training of models like $ {\\mathbf y} = {\\mathbf \\sigma}\\Big( W^1  {\\mathbf \\sigma}\\Big( W^0  {\\mathbf x} + {\\mathbf b}^0 \\Big) + {\\mathbf b}^1 \\Big)$ (or bigger!) can be readily performed by applying *automatic differentiation* to a loss function. \n",
    "\n",
    "> In the case of regression: $L = \\frac{1}{n} \\sum_{i=1}^n \\Big({\\mathbf y}_i - {\\mathbf \\sigma}\\Big( W^1  {\\mathbf \\sigma}\\Big( W^0  {\\mathbf x}_i + {\\mathbf b}^0 \\Big) + {\\mathbf b}^1 )\\Big)\\Big)^2 $\n",
    "\n",
    "> In the case of two-class classification: $L = \\frac{1}{n} log(1 + exp(-y_i {\\mathbf \\sigma}\\Big( W^1  {\\mathbf \\sigma}\\Big( W^0  {\\mathbf x} + {\\mathbf b}^0 \\Big) + {\\mathbf b}^1 \\Big))) $\n",
    "\n",
    "\n",
    "## Playing with neural nets.\n",
    "+ Concentric classes, 1 layer, Sigmoid.\n",
    "+ Concentric classes, 1 layer, ReLu.\n",
    "+ X-or, 0 layer.\n",
    "+ X-or, 1 layer.\n",
    "+ Spiral data.\n",
    "+ Regression.\n",
    "\n",
    "\n",
    "http://playground.tensorflow.org"
   ]
  },
  {
   "cell_type": "markdown",
   "metadata": {},
   "source": [
    "# Deep Learning in `keras`\n",
    "\n",
    "> Keras is a high-level neural networks library, written in Python and capable of running on top TensorFlow. It was developed with a focus on enabling fast experimentation.\n",
    "\n",
    "The core data structure of Keras is a model, a way to organize layers. The main type of model is the ``Sequential model``, a linear stack of layers. \n",
    "\n",
    "```Python\n",
    "from keras.models import Sequential\n",
    "model = Sequential()\n",
    "```\n",
    "\n",
    "Stacking layers is as easy as ``.add()``:\n",
    "\n",
    "```Python\n",
    "from keras.layers import Dense, Activation\n",
    "\n",
    "model.add(Dense(output_dim=64, input_dim=100))\n",
    "model.add(Activation(\"relu\"))\n",
    "model.add(Dense(output_dim=10))\n",
    "model.add(Activation(\"softmax\"))\n",
    "```\n",
    "\n",
    "Once your model looks good, configure its learning process with ``.compile()``:\n",
    "\n",
    "```Python\n",
    "model.compile(loss='categorical_crossentropy', \n",
    "              optimizer='sgd', metrics=['accuracy'])\n",
    "```\n",
    "\n",
    "If you need to, you can further configure your optimizer.\n",
    "\n",
    "```Python\n",
    "from keras.optimizers import SGD\n",
    "model.compile(loss='categorical_crossentropy', optimizer=SGD(lr=0.01, momentum=0.9, nesterov=True))\n",
    "```\n",
    "\n",
    "You can now iterate on your training data in batches:\n",
    "\n",
    "```Python\n",
    "model.fit(X_train, Y_train, nb_epoch=5, batch_size=32)\n",
    "```\n",
    "\n",
    "Evaluate your performance in one line:\n",
    "```Python\n",
    "loss_and_metrics = model.evaluate(X_test, Y_test, batch_size=32)\n",
    "```\n",
    "\n",
    "Or generate predictions on new data:\n",
    "\n",
    "```Python\n",
    "classes = model.predict_classes(X_test, batch_size=32)\n",
    "proba = model.predict_proba(X_test, batch_size=32)\n",
    "```"
   ]
  },
  {
   "cell_type": "code",
   "execution_count": 14,
   "metadata": {},
   "outputs": [
    {
     "data": {
      "text/plain": [
       "''"
      ]
     },
     "execution_count": 14,
     "metadata": {},
     "output_type": "execute_result"
    }
   ],
   "source": [
    "import tensorflow as tf\n",
    "tf.test.gpu_device_name()"
   ]
  },
  {
   "cell_type": "code",
   "execution_count": 15,
   "metadata": {},
   "outputs": [
    {
     "data": {
      "text/plain": [
       "[name: \"/device:CPU:0\"\n",
       " device_type: \"CPU\"\n",
       " memory_limit: 268435456\n",
       " locality {\n",
       " }\n",
       " incarnation: 16365307228471508508]"
      ]
     },
     "execution_count": 15,
     "metadata": {},
     "output_type": "execute_result"
    }
   ],
   "source": [
    "from tensorflow.python.client import device_lib\n",
    "device_lib.list_local_devices()"
   ]
  },
  {
   "cell_type": "markdown",
   "metadata": {},
   "source": [
    "## Building an image classifier with keras"
   ]
  },
  {
   "cell_type": "code",
   "execution_count": 16,
   "metadata": {},
   "outputs": [
    {
     "data": {
      "text/plain": [
       "'2.2.4-tf'"
      ]
     },
     "execution_count": 16,
     "metadata": {},
     "output_type": "execute_result"
    }
   ],
   "source": [
    "from tensorflow import keras\n",
    "keras.__version__\n"
   ]
  },
  {
   "cell_type": "code",
   "execution_count": 17,
   "metadata": {},
   "outputs": [],
   "source": [
    "fashion_mnist = keras.datasets.fashion_mnist\n",
    "(X_train_full, y_train_full), (X_test, y_test) = fashion_mnist.load_data()"
   ]
  },
  {
   "cell_type": "markdown",
   "metadata": {},
   "source": [
    "The training set contains 60,000 grayscale images, each 28x28 pixels:"
   ]
  },
  {
   "cell_type": "code",
   "execution_count": 18,
   "metadata": {},
   "outputs": [
    {
     "data": {
      "text/plain": [
       "(60000, 28, 28)"
      ]
     },
     "execution_count": 18,
     "metadata": {},
     "output_type": "execute_result"
    }
   ],
   "source": [
    "X_train_full.shape"
   ]
  },
  {
   "cell_type": "markdown",
   "metadata": {},
   "source": [
    "Each pixel intensity is represented as a byte (0 to 255):\n",
    "\n"
   ]
  },
  {
   "cell_type": "code",
   "execution_count": 19,
   "metadata": {},
   "outputs": [
    {
     "data": {
      "text/plain": [
       "dtype('uint8')"
      ]
     },
     "execution_count": 19,
     "metadata": {},
     "output_type": "execute_result"
    }
   ],
   "source": [
    "X_train_full.dtype"
   ]
  },
  {
   "cell_type": "markdown",
   "metadata": {},
   "source": [
    "\n",
    "Let's split the full training set into a validation set and a (smaller) training set. We also scale the pixel intensities down to the 0-1 range and convert them to floats, by dividing by 255."
   ]
  },
  {
   "cell_type": "code",
   "execution_count": 20,
   "metadata": {},
   "outputs": [],
   "source": [
    "X_valid, X_train = X_train_full[:5000] / 255., X_train_full[5000:] / 255.\n",
    "y_valid, y_train = y_train_full[:5000], y_train_full[5000:]\n",
    "X_test = X_test / 255."
   ]
  },
  {
   "cell_type": "markdown",
   "metadata": {},
   "source": [
    "You can plot an image using Matplotlib's imshow() function, with a 'binary' color map:"
   ]
  },
  {
   "cell_type": "code",
   "execution_count": 21,
   "metadata": {},
   "outputs": [
    {
     "data": {
      "image/png": "[encoded data removed]",
      "text/plain": [
       "<Figure size 864x360 with 1 Axes>"
      ]
     },
     "metadata": {
      "needs_background": "light"
     },
     "output_type": "display_data"
    }
   ],
   "source": [
    "plt.imshow(X_train[0], cmap=\"binary\")\n",
    "plt.axis('off')\n",
    "plt.show()"
   ]
  },
  {
   "cell_type": "markdown",
   "metadata": {},
   "source": [
    "The labels are the class IDs (represented as uint8), from 0 to 9:"
   ]
  },
  {
   "cell_type": "code",
   "execution_count": 22,
   "metadata": {},
   "outputs": [
    {
     "data": {
      "text/plain": [
       "array([4, 0, 7, ..., 3, 0, 5], dtype=uint8)"
      ]
     },
     "execution_count": 22,
     "metadata": {},
     "output_type": "execute_result"
    }
   ],
   "source": [
    "y_train"
   ]
  },
  {
   "cell_type": "code",
   "execution_count": 23,
   "metadata": {},
   "outputs": [
    {
     "name": "stdout",
     "output_type": "stream",
     "text": [
      "Coat\n"
     ]
    }
   ],
   "source": [
    "# Here are the corresponding class names:\n",
    "class_names = [\"T-shirt/top\", \"Trouser\", \"Pullover\", \"Dress\", \"Coat\",\n",
    "               \"Sandal\", \"Shirt\", \"Sneaker\", \"Bag\", \"Ankle boot\"]\n",
    "\n",
    "# The first image in the training set is a coat:\n",
    "print(class_names[y_train[0]])"
   ]
  },
  {
   "cell_type": "code",
   "execution_count": 24,
   "metadata": {},
   "outputs": [
    {
     "name": "stdout",
     "output_type": "stream",
     "text": [
      "(5000, 28, 28)\n"
     ]
    }
   ],
   "source": [
    "# The validation set contains 5,000 images, and the test set contains 10,000 images:\n",
    "print(X_valid.shape)"
   ]
  },
  {
   "cell_type": "code",
   "execution_count": 25,
   "metadata": {},
   "outputs": [
    {
     "name": "stdout",
     "output_type": "stream",
     "text": [
      "(10000, 28, 28)\n"
     ]
    }
   ],
   "source": [
    "# The test set contains 5,000 images, and the test set contains 10,000 images:\n",
    "print(X_test.shape)"
   ]
  },
  {
   "cell_type": "code",
   "execution_count": 26,
   "metadata": {},
   "outputs": [
    {
     "data": {
      "image/png": "[encoded data removed]",
      "text/plain": [
       "<Figure size 864x345.6 with 40 Axes>"
      ]
     },
     "metadata": {
      "needs_background": "light"
     },
     "output_type": "display_data"
    }
   ],
   "source": [
    "# Let's take a look at a sample of the images in the dataset:\n",
    "\n",
    "n_rows = 4\n",
    "n_cols = 10\n",
    "plt.figure(figsize=(n_cols * 1.2, n_rows * 1.2))\n",
    "for row in range(n_rows):\n",
    "    for col in range(n_cols):\n",
    "        index = n_cols * row + col\n",
    "        plt.subplot(n_rows, n_cols, index + 1)\n",
    "        plt.imshow(X_train[index], cmap=\"binary\", interpolation=\"nearest\")\n",
    "        plt.axis('off')\n",
    "        plt.title(class_names[y_train[index]], fontsize=12)\n",
    "plt.subplots_adjust(wspace=0.2, hspace=0.5)\n",
    "plt.show()"
   ]
  },
  {
   "cell_type": "code",
   "execution_count": 27,
   "metadata": {},
   "outputs": [],
   "source": [
    "# clear previous session\n",
    "keras.backend.clear_session()\n",
    "np.random.seed(42)\n",
    "tf.random.set_seed(42)"
   ]
  },
  {
   "cell_type": "code",
   "execution_count": 28,
   "metadata": {},
   "outputs": [],
   "source": [
    "# Let's create a classification model for this problem\n",
    "model = keras.models.Sequential()\n",
    "model.add(keras.layers.Flatten(input_shape=[28, 28]))\n",
    "model.add(keras.layers.Dense(300, activation=\"relu\"))\n",
    "model.add(keras.layers.Dense(100, activation=\"relu\"))\n",
    "model.add(keras.layers.Dense(10, activation=\"softmax\"))\n",
    "\n",
    "# Option 2\n",
    "model = keras.models.Sequential([\n",
    "    keras.layers.Flatten(input_shape=[28, 28]),\n",
    "    keras.layers.Dense(300, activation=\"relu\"),\n",
    "    keras.layers.Dense(100, activation=\"relu\"),\n",
    "    keras.layers.Dense(10, activation=\"softmax\")\n",
    "])"
   ]
  },
  {
   "cell_type": "code",
   "execution_count": 29,
   "metadata": {},
   "outputs": [
    {
     "data": {
      "text/plain": [
       "[<tensorflow.python.keras.layers.core.Flatten at 0x7fae875f2090>,\n",
       " <tensorflow.python.keras.layers.core.Dense at 0x7fae878a4610>,\n",
       " <tensorflow.python.keras.layers.core.Dense at 0x7fae878b7910>,\n",
       " <tensorflow.python.keras.layers.core.Dense at 0x7fae878b7c90>]"
      ]
     },
     "execution_count": 29,
     "metadata": {},
     "output_type": "execute_result"
    }
   ],
   "source": [
    "model.layers"
   ]
  },
  {
   "cell_type": "code",
   "execution_count": 30,
   "metadata": {},
   "outputs": [],
   "source": [
    "# How many parameters does the model have? Think about it"
   ]
  },
  {
   "cell_type": "code",
   "execution_count": 31,
   "metadata": {},
   "outputs": [],
   "source": [
    "# model.summary()"
   ]
  },
  {
   "cell_type": "code",
   "execution_count": 32,
   "metadata": {},
   "outputs": [
    {
     "data": {
      "image/png": "[encoded data removed]",
      "text/plain": [
       "<IPython.core.display.Image object>"
      ]
     },
     "execution_count": 32,
     "metadata": {},
     "output_type": "execute_result"
    }
   ],
   "source": [
    "#we can plot the model using the following funcition\n",
    "keras.utils.plot_model(model, \"my_fashion_mnist_model.png\", show_shapes=True)\n",
    "\n",
    "#if it does not work, perhaps some packages need to be installed:\n",
    "#!conda install -y graphviz\n",
    "#!conda install -y pydot"
   ]
  },
  {
   "cell_type": "code",
   "execution_count": 34,
   "metadata": {},
   "outputs": [],
   "source": [
    "# lets define our loss function, optimizer and accuracy metrics\n",
    "model.compile(loss=\"sparse_categorical_crossentropy\",\n",
    "              optimizer=\"sgd\",\n",
    "              metrics=[\"accuracy\"])"
   ]
  },
  {
   "cell_type": "markdown",
   "metadata": {},
   "source": [
    "this is equivalent to\n",
    "```python\n",
    "\n",
    "model.compile(loss=keras.losses.sparse_categorical_crossentropy,\n",
    "              optimizer=keras.optimizers.SGD(),\n",
    "              metrics=[keras.metrics.sparse_categorical_accuracy])\n",
    "\n",
    "```"
   ]
  },
  {
   "cell_type": "code",
   "execution_count": 36,
   "metadata": {},
   "outputs": [
    {
     "name": "stdout",
     "output_type": "stream",
     "text": [
      "Train on 55000 samples, validate on 5000 samples\n",
      "Epoch 1/5\n",
      "55000/55000 [==============================] - 4s 80us/sample - loss: 0.4521 - accuracy: 0.8406 - val_loss: 0.4420 - val_accuracy: 0.8490\n",
      "Epoch 2/5\n",
      "55000/55000 [==============================] - 4s 78us/sample - loss: 0.4216 - accuracy: 0.8527 - val_loss: 0.4109 - val_accuracy: 0.8554\n",
      "Epoch 3/5\n",
      "55000/55000 [==============================] - 4s 80us/sample - loss: 0.3992 - accuracy: 0.8601 - val_loss: 0.3879 - val_accuracy: 0.8656\n",
      "Epoch 4/5\n",
      "55000/55000 [==============================] - 4s 78us/sample - loss: 0.3838 - accuracy: 0.8668 - val_loss: 0.3714 - val_accuracy: 0.8716\n",
      "Epoch 5/5\n",
      "55000/55000 [==============================] - 4s 79us/sample - loss: 0.3698 - accuracy: 0.8710 - val_loss: 0.3756 - val_accuracy: 0.8720\n"
     ]
    }
   ],
   "source": [
    "# let's train the classifier for 5 epochs\n",
    "history = model.fit(X_train, y_train, epochs=5,\n",
    "                    validation_data=(X_valid, y_valid))"
   ]
  },
  {
   "cell_type": "code",
   "execution_count": null,
   "metadata": {},
   "outputs": [],
   "source": [
    "history.params"
   ]
  },
  {
   "cell_type": "code",
   "execution_count": 37,
   "metadata": {},
   "outputs": [
    {
     "name": "stdout",
     "output_type": "stream",
     "text": [
      "[0, 1, 2, 3, 4]\n"
     ]
    }
   ],
   "source": [
    "print(history.epoch)\n"
   ]
  },
  {
   "cell_type": "code",
   "execution_count": 38,
   "metadata": {},
   "outputs": [
    {
     "data": {
      "text/plain": [
       "dict_keys(['loss', 'accuracy', 'val_loss', 'val_accuracy'])"
      ]
     },
     "execution_count": 38,
     "metadata": {},
     "output_type": "execute_result"
    }
   ],
   "source": [
    "history.history.keys()\n"
   ]
  },
  {
   "cell_type": "code",
   "execution_count": 39,
   "metadata": {},
   "outputs": [
    {
     "data": {
      "image/png": "[encoded data removed]",
      "text/plain": [
       "<Figure size 576x360 with 1 Axes>"
      ]
     },
     "metadata": {
      "needs_background": "light"
     },
     "output_type": "display_data"
    }
   ],
   "source": [
    "# it is important to plot the training curves\n",
    "pd.DataFrame(history.history).plot(figsize=(8, 5))\n",
    "plt.grid(True)\n",
    "plt.gca().set_ylim(0, 1)\n",
    "plt.show()"
   ]
  },
  {
   "cell_type": "code",
   "execution_count": 48,
   "metadata": {},
   "outputs": [
    {
     "name": "stdout",
     "output_type": "stream",
     "text": [
      "10000/1 - 0s - loss: 0.3438 - accuracy: 0.8507\n"
     ]
    },
    {
     "data": {
      "text/plain": [
       "[0.4154003119468689, 0.8507]"
      ]
     },
     "execution_count": 48,
     "metadata": {},
     "output_type": "execute_result"
    }
   ],
   "source": [
    "# let's evaluate the test set. \n",
    "model.evaluate(X_test, y_test,verbose=2)"
   ]
  },
  {
   "cell_type": "code",
   "execution_count": 69,
   "metadata": {},
   "outputs": [
    {
     "data": {
      "text/plain": [
       "range(0, 10)"
      ]
     },
     "execution_count": 69,
     "metadata": {},
     "output_type": "execute_result"
    }
   ],
   "source": [
    "range(y_proba[0].shape[0])"
   ]
  },
  {
   "cell_type": "code",
   "execution_count": 73,
   "metadata": {},
   "outputs": [
    {
     "name": "stdout",
     "output_type": "stream",
     "text": [
      "[0.   0.   0.   0.   0.   0.07 0.   0.09 0.   0.84]\n"
     ]
    },
    {
     "data": {
      "image/png": "[encoded data removed]",
      "text/plain": [
       "<Figure size 864x360 with 1 Axes>"
      ]
     },
     "metadata": {
      "needs_background": "light"
     },
     "output_type": "display_data"
    }
   ],
   "source": [
    "# we can evaluate on sample\n",
    "X_new = X_test[:1]\n",
    "y_proba = model.predict(X_new)[0]\n",
    "print(y_proba.round(2))\n",
    "plt.bar(range(y_proba.shape[0]),y_proba)\n",
    "plt.show()"
   ]
  },
  {
   "cell_type": "code",
   "execution_count": 76,
   "metadata": {},
   "outputs": [
    {
     "name": "stdout",
     "output_type": "stream",
     "text": [
      "[[0.   0.   0.   0.   0.   0.07 0.   0.09 0.   0.84]\n",
      " [0.   0.   0.94 0.   0.01 0.   0.04 0.   0.   0.  ]\n",
      " [0.   1.   0.   0.   0.   0.   0.   0.   0.   0.  ]]\n",
      "\n",
      "class predixtions [9 2 1]\n"
     ]
    }
   ],
   "source": [
    "# if we want to test several examples\n",
    "\n",
    "X_new = X_test[:3]\n",
    "y_proba = model.predict(X_new)\n",
    "print(y_proba.round(2))\n",
    "\n",
    "y_pred = model.predict_classes(X_new)\n",
    "print(\"\\nclass predixtions\", y_pred)"
   ]
  },
  {
   "cell_type": "code",
   "execution_count": 77,
   "metadata": {},
   "outputs": [
    {
     "name": "stdout",
     "output_type": "stream",
     "text": [
      "Train on 55000 samples, validate on 5000 samples\n",
      "Epoch 1/5\n",
      "55000/55000 [==============================] - 5s 89us/sample - loss: 0.7312 - accuracy: 0.7577 - val_loss: 0.5321 - val_accuracy: 0.8196\n",
      "Epoch 2/5\n",
      "55000/55000 [==============================] - 4s 80us/sample - loss: 0.4906 - accuracy: 0.8289 - val_loss: 0.4611 - val_accuracy: 0.8416\n",
      "Epoch 3/5\n",
      "55000/55000 [==============================] - 4s 80us/sample - loss: 0.4428 - accuracy: 0.8438 - val_loss: 0.4239 - val_accuracy: 0.8564\n",
      "Epoch 4/5\n",
      "55000/55000 [==============================] - 4s 79us/sample - loss: 0.4173 - accuracy: 0.8529 - val_loss: 0.3950 - val_accuracy: 0.8628\n",
      "Epoch 5/5\n",
      "55000/55000 [==============================] - 4s 78us/sample - loss: 0.3969 - accuracy: 0.8594 - val_loss: 0.4083 - val_accuracy: 0.8562\n"
     ]
    },
    {
     "data": {
      "image/png": "[encoded data removed]",
      "text/plain": [
       "<Figure size 576x360 with 1 Axes>"
      ]
     },
     "metadata": {
      "needs_background": "light"
     },
     "output_type": "display_data"
    },
    {
     "name": "stdout",
     "output_type": "stream",
     "text": [
      "10000/1 - 0s - loss: 0.3599 - accuracy: 0.8370\n"
     ]
    },
    {
     "data": {
      "text/plain": [
       "[0.4488424150943756, 0.837]"
      ]
     },
     "execution_count": 77,
     "metadata": {},
     "output_type": "execute_result"
    }
   ],
   "source": [
    "# Let's put everything in one cell:\n",
    "\n",
    "# create the model\n",
    "model = keras.models.Sequential()\n",
    "model.add(keras.layers.Flatten(input_shape=[28, 28]))\n",
    "model.add(keras.layers.Dense(300, activation=\"relu\"))\n",
    "model.add(keras.layers.Dense(100, activation=\"relu\"))\n",
    "model.add(keras.layers.Dense(10, activation=\"softmax\"))\n",
    "\n",
    "# define loss function, optimizer and metrics\n",
    "model.compile(loss=\"sparse_categorical_crossentropy\",\n",
    "              optimizer=\"sgd\",\n",
    "              metrics=[\"accuracy\"])\n",
    "\n",
    "# train the model and validate using val data\n",
    "history = model.fit(X_train, y_train, epochs=5,\n",
    "                    validation_data=(X_valid, y_valid))\n",
    "\n",
    "# plot training curves\n",
    "pd.DataFrame(history.history).plot(figsize=(8, 5))\n",
    "plt.grid(True)\n",
    "plt.gca().set_ylim(0, 1)\n",
    "plt.show()\n",
    "\n",
    "# evaluate the model using test data\n",
    "model.evaluate(X_test, y_test,verbose=2)"
   ]
  },
  {
   "cell_type": "markdown",
   "metadata": {},
   "source": [
    "## Regression with MLP"
   ]
  },
  {
   "cell_type": "code",
   "execution_count": 80,
   "metadata": {},
   "outputs": [],
   "source": [
    "from sklearn.datasets import fetch_california_housing\n",
    "from sklearn.model_selection import train_test_split\n",
    "from sklearn.preprocessing import StandardScaler\n",
    "\n",
    "housing = fetch_california_housing()\n",
    "\n",
    "X_train_full, X_test, y_train_full, y_test = train_test_split(housing.data, housing.target, random_state=42)\n",
    "X_train, X_valid, y_train, y_valid = train_test_split(X_train_full, y_train_full, random_state=42)\n",
    "\n",
    "scaler = StandardScaler()\n",
    "X_train = scaler.fit_transform(X_train)\n",
    "X_valid = scaler.transform(X_valid)\n",
    "X_test = scaler.transform(X_test)"
   ]
  },
  {
   "cell_type": "code",
   "execution_count": 81,
   "metadata": {},
   "outputs": [],
   "source": [
    "np.random.seed(42)\n",
    "tf.random.set_seed(42)"
   ]
  },
  {
   "cell_type": "code",
   "execution_count": 89,
   "metadata": {},
   "outputs": [
    {
     "name": "stdout",
     "output_type": "stream",
     "text": [
      "Train on 11610 samples, validate on 3870 samples\n",
      "Epoch 1/15\n",
      "11610/11610 [==============================] - 1s 60us/sample - loss: 2.1513 - val_loss: 3.4754\n",
      "Epoch 2/15\n",
      "11610/11610 [==============================] - 0s 33us/sample - loss: 0.7966 - val_loss: 0.7365\n",
      "Epoch 3/15\n",
      "11610/11610 [==============================] - 0s 33us/sample - loss: 0.6877 - val_loss: 0.6546\n",
      "Epoch 4/15\n",
      "11610/11610 [==============================] - 0s 33us/sample - loss: 0.6432 - val_loss: 0.6170\n",
      "Epoch 5/15\n",
      "11610/11610 [==============================] - 0s 33us/sample - loss: 0.6099 - val_loss: 0.6156\n",
      "Epoch 6/15\n",
      "11610/11610 [==============================] - 0s 33us/sample - loss: 0.5806 - val_loss: 0.5530\n",
      "Epoch 7/15\n",
      "11610/11610 [==============================] - 0s 33us/sample - loss: 0.5582 - val_loss: 0.5374\n",
      "Epoch 8/15\n",
      "11610/11610 [==============================] - 0s 33us/sample - loss: 0.5387 - val_loss: 0.5140\n",
      "Epoch 9/15\n",
      "11610/11610 [==============================] - 0s 33us/sample - loss: 0.5225 - val_loss: 0.5118\n",
      "Epoch 10/15\n",
      "11610/11610 [==============================] - 0s 33us/sample - loss: 0.5081 - val_loss: 0.4965\n",
      "Epoch 11/15\n",
      "11610/11610 [==============================] - 0s 33us/sample - loss: 0.4962 - val_loss: 0.4913\n",
      "Epoch 12/15\n",
      "11610/11610 [==============================] - 0s 33us/sample - loss: 0.4857 - val_loss: 0.4802\n",
      "Epoch 13/15\n",
      "11610/11610 [==============================] - 0s 33us/sample - loss: 0.4768 - val_loss: 0.4873\n",
      "Epoch 14/15\n",
      "11610/11610 [==============================] - 0s 33us/sample - loss: 0.4691 - val_loss: 0.4581\n",
      "Epoch 15/15\n",
      "11610/11610 [==============================] - 0s 33us/sample - loss: 0.4624 - val_loss: 0.4644\n"
     ]
    },
    {
     "data": {
      "image/png": "[encoded data removed]",
      "text/plain": [
       "<Figure size 576x360 with 1 Axes>"
      ]
     },
     "metadata": {
      "needs_background": "light"
     },
     "output_type": "display_data"
    },
    {
     "name": "stdout",
     "output_type": "stream",
     "text": [
      "Evaluating test set\n",
      "5160/1 - 0s - loss: 0.3834\n"
     ]
    },
    {
     "data": {
      "text/plain": [
       "0.44509506197862847"
      ]
     },
     "execution_count": 89,
     "metadata": {},
     "output_type": "execute_result"
    }
   ],
   "source": [
    "# create the model\n",
    "model = keras.models.Sequential()\n",
    "model.add(keras.layers.Dense(30, activation=\"relu\",input_shape=X_train.shape[1:]))\n",
    "model.add(keras.layers.Dense(1))\n",
    "\n",
    "# define loss function, optimizer and metrics\n",
    "model.compile(loss=\"mean_squared_error\", \n",
    "              optimizer=keras.optimizers.SGD(lr=1e-3))\n",
    "\n",
    "\n",
    "# train the model and validate using val data\n",
    "history = model.fit(X_train, y_train, epochs=15,\n",
    "                    validation_data=(X_valid, y_valid))\n",
    "\n",
    "# plot training curves\n",
    "pd.DataFrame(history.history).plot(figsize=(8, 5))\n",
    "plt.grid(True)\n",
    "plt.gca().set_ylim(0, 1)\n",
    "plt.show()\n",
    "\n",
    "# evaluate the model using test data\n",
    "print(\"Evaluating test set\")\n",
    "model.evaluate(X_test, y_test,verbose=2)"
   ]
  },
  {
   "cell_type": "markdown",
   "metadata": {},
   "source": [
    "### Dropout\n",
    "\n",
    "Dropout is a way to regularize the neural network. During training, it may happen that neurons of a particular layer may always become influenced only by the output of a particular neuron in the previous layer. In that case, the neural network would overfit.\n",
    "\n",
    "Dropout prevents overfitting and regularizes by randomly cutting the connections (also known as dropping the connection) between neurons in successecutive layers during training."
   ]
  },
  {
   "cell_type": "markdown",
   "metadata": {},
   "source": [
    "### Keras optimizers\n",
    "\n",
    "There are several variants of gradient descent, which differ in how we compute the step.\n",
    "\n",
    "Keras supports seven optimizers.\n",
    "\n",
    "```python\n",
    "my_opt = K.optimizers.SGD(lr=0.01, momentum=0.0, decay=0.0, nesterov=False)\n",
    "my_opt = K.optimizers.RMSprop(lr=0.001, rho=0.9, epsilon=None, decay=0.0)\n",
    "my_opt = K.optimizers.Adagrad(lr=0.01, epsilon=None, decay=0.0)\n",
    "my_opt = K.optimizers.Adadelta(lr=1.0, rho=0.95, epsilon=None, decay=0.0)\n",
    "my_opt = K.optimizers.Adam(lr=0.001, beta_1=0.9, beta_2=0.999, epsilon=None, decay=0.0, amsgrad=False)\n",
    "my_opt = K.optimizers.Adamax(lr=0.002, beta_1=0.9, beta_2=0.999, epsilon=None, decay=0.0)\n",
    "my_opt = K.optimizers.Nadam(lr=0.002, beta_1=0.9, beta_2=0.999, epsilon=None, schedule_decay=0.004)\n",
    "```\n",
    "\n",
    "#### Momentum\n",
    "\n",
    "For example, SGD has trouble navigating ravines, i.e. areas where the surface curves much more steeply in one dimension than in another, which are common around local optima. In these scenarios, SGD oscillates across the slopes of the ravine while only making hesitant progress along the bottom towards the local optimum.\n",
    "\n",
    "**Momentum** is a method that helps accelerate SGD in the relevant direction and dampens oscillations. It does this by adding a fraction of the update vector of the past time step to the current update vector:\n",
    "\n",
    "$$ v_t = m v_{t-1} + \\alpha \\nabla_w f $$$$ w = w - v_t    $$\n",
    "\n",
    "The momentum $m$ is commonly set to $0.9$.\n",
    "\n",
    "#### Adagrad\n",
    "\n",
    "SGD manipulates the learning rate globally and equally for all parameters. Tuning the learning rates is an expensive process, so much work has gone into devising methods that can adaptively tune the learning rates, and even do so per parameter.\n",
    "\n",
    "Adagrad is an algorithm for gradient-based optimization that does just this: It adapts the learning rate to the parameters, performing larger updates for infrequent and smaller updates for frequent parameters.\n",
    "\n",
    "$$ c = c + (\\nabla_w f)^2 $$$$ w = w - \\frac{\\alpha}{\\sqrt{c}} $$"
   ]
  },
  {
   "cell_type": "markdown",
   "metadata": {},
   "source": [
    "## Saving and Restoring\n",
    "\n",
    "Training a Neural Network can take a lot of time. Saving and restoring the model could be really important"
   ]
  },
  {
   "cell_type": "code",
   "execution_count": 91,
   "metadata": {},
   "outputs": [],
   "source": [
    "np.random.seed(42)\n",
    "tf.random.set_seed(42)"
   ]
  },
  {
   "cell_type": "code",
   "execution_count": 99,
   "metadata": {},
   "outputs": [
    {
     "name": "stdout",
     "output_type": "stream",
     "text": [
      "Train on 11610 samples, validate on 3870 samples\n",
      "Epoch 1/5\n",
      "11610/11610 [==============================] - 1s 67us/sample - loss: 1.4802 - val_loss: 0.6835\n",
      "Epoch 2/5\n",
      "11610/11610 [==============================] - 0s 37us/sample - loss: 0.6592 - val_loss: 0.6018\n",
      "Epoch 3/5\n",
      "11610/11610 [==============================] - 0s 37us/sample - loss: 0.6000 - val_loss: 0.6100\n",
      "Epoch 4/5\n",
      "11610/11610 [==============================] - 0s 38us/sample - loss: 0.5596 - val_loss: 0.5444\n",
      "Epoch 5/5\n",
      "11610/11610 [==============================] - 0s 37us/sample - loss: 0.5267 - val_loss: 0.5294\n",
      "5160/1 - 0s - loss: 0.4665\n"
     ]
    }
   ],
   "source": [
    "# we create and train a model\n",
    "\n",
    "model = keras.models.Sequential([\n",
    "    keras.layers.Dense(30, activation=\"relu\", input_shape=[8]),\n",
    "    keras.layers.Dense(30, activation=\"relu\"),\n",
    "    keras.layers.Dense(1)\n",
    "])\n",
    "\n",
    "\n",
    "\n",
    "model.compile(loss=\"mse\", optimizer=keras.optimizers.SGD(lr=1e-3))\n",
    "history = model.fit(X_train, y_train, epochs=5, validation_data=(X_valid, y_valid))\n",
    "mse_test = model.evaluate(X_test, y_test,verbose=2)\n",
    "\n",
    "model.save(\"my_keras_model.h5\")"
   ]
  },
  {
   "cell_type": "code",
   "execution_count": 106,
   "metadata": {},
   "outputs": [
    {
     "name": "stdout",
     "output_type": "stream",
     "text": [
      "[[-0.24248162]\n",
      " [ 0.12465069]\n",
      " [ 0.1301432 ]]\n",
      "\n",
      "loading model...\n",
      "[[0.91770935]\n",
      " [1.4000721 ]\n",
      " [2.7654226 ]]\n",
      "5160/1 - 0s - loss: 0.4665\n"
     ]
    }
   ],
   "source": [
    "\n",
    "\n",
    "model = keras.models.Sequential([\n",
    "    keras.layers.Dense(30, activation=\"relu\", input_shape=[8]),\n",
    "    keras.layers.Dense(30, activation=\"relu\"),\n",
    "    keras.layers.Dense(1)\n",
    "])\n",
    "\n",
    "print(model.predict(X_new))\n",
    "\n",
    "model = keras.models.load_model(\"my_keras_model.h5\")\n",
    "print('\\nloading model...')\n",
    "print(model.predict(X_new))\n",
    "mse_test = model.evaluate(X_test, y_test,verbose=2)\n"
   ]
  },
  {
   "cell_type": "code",
   "execution_count": 107,
   "metadata": {},
   "outputs": [
    {
     "data": {
      "text/plain": [
       "<tensorflow.python.training.tracking.util.CheckpointLoadStatus at 0x7fae6f58abd0>"
      ]
     },
     "execution_count": 107,
     "metadata": {},
     "output_type": "execute_result"
    }
   ],
   "source": [
    "# this is the samle\n",
    "model.save_weights(\"my_keras_weights.ckpt\")\n",
    "model.load_weights(\"my_keras_weights.ckpt\")\n"
   ]
  },
  {
   "cell_type": "markdown",
   "metadata": {},
   "source": [
    "### Using Callbacks during Training"
   ]
  },
  {
   "cell_type": "code",
   "execution_count": 137,
   "metadata": {},
   "outputs": [],
   "source": [
    "\n",
    "keras.backend.clear_session()\n",
    "np.random.seed(42)\n",
    "tf.random.set_seed(42)"
   ]
  },
  {
   "cell_type": "code",
   "execution_count": 138,
   "metadata": {},
   "outputs": [
    {
     "name": "stdout",
     "output_type": "stream",
     "text": [
      "Train on 11610 samples, validate on 3870 samples\n",
      "Epoch 1/5\n",
      "11610/11610 [==============================] - 1s 71us/sample - loss: 1.8631 - val_loss: 3.2403\n",
      "Epoch 2/5\n",
      "11610/11610 [==============================] - 0s 39us/sample - loss: 0.6723 - val_loss: 0.6939\n",
      "Epoch 3/5\n",
      "11610/11610 [==============================] - 0s 39us/sample - loss: 0.5927 - val_loss: 0.5531\n",
      "Epoch 4/5\n",
      "11610/11610 [==============================] - 0s 39us/sample - loss: 0.5550 - val_loss: 0.5519\n",
      "Epoch 5/5\n",
      "11610/11610 [==============================] - 0s 38us/sample - loss: 0.5278 - val_loss: 0.5715\n"
     ]
    },
    {
     "data": {
      "image/png": "[encoded data removed]",
      "text/plain": [
       "<Figure size 576x360 with 1 Axes>"
      ]
     },
     "metadata": {
      "needs_background": "light"
     },
     "output_type": "display_data"
    },
    {
     "name": "stdout",
     "output_type": "stream",
     "text": [
      "5160/1 - 0s - loss: 0.4558\n"
     ]
    }
   ],
   "source": [
    "model = keras.models.Sequential([\n",
    "    keras.layers.Dense(30, activation=\"relu\", input_shape=[8]),\n",
    "    keras.layers.Dense(30, activation=\"relu\"),\n",
    "    keras.layers.Dense(1)\n",
    "])\n",
    "\n",
    "model.compile(loss=\"mse\", optimizer=keras.optimizers.SGD(lr=1e-3))\n",
    "\n",
    "# define a call back\n",
    "checkpoint_cb = keras.callbacks.ModelCheckpoint(\"my_keras_model.h5\", save_best_only=True)\n",
    "\n",
    "\n",
    "history = model.fit(X_train, y_train, epochs=5, \n",
    "                    validation_data=(X_valid, y_valid),\n",
    "                    callbacks=[checkpoint_cb])\n",
    "\n",
    "# plot training curves\n",
    "pd.DataFrame(history.history).plot(figsize=(8, 5))\n",
    "plt.grid(True)\n",
    "plt.show()\n",
    "\n",
    "mse_test = model.evaluate(X_test, y_test,verbose=2)"
   ]
  },
  {
   "cell_type": "code",
   "execution_count": 139,
   "metadata": {},
   "outputs": [
    {
     "name": "stdout",
     "output_type": "stream",
     "text": [
      "5160/1 - 0s - loss: 0.4839\n"
     ]
    }
   ],
   "source": [
    "model = keras.models.load_model(\"my_keras_model.h5\") # rollback to best model\n",
    "mse_test = model.evaluate(X_test, y_test, verbose = 2)"
   ]
  },
  {
   "cell_type": "code",
   "execution_count": 140,
   "metadata": {},
   "outputs": [
    {
     "name": "stdout",
     "output_type": "stream",
     "text": [
      "Train on 11610 samples, validate on 3870 samples\n",
      "Epoch 1/100\n",
      "11610/11610 [==============================] - 1s 112us/sample - loss: 1.7004 - val_loss: 0.7751\n",
      "Epoch 2/100\n",
      "11610/11610 [==============================] - 1s 66us/sample - loss: 0.7124 - val_loss: 0.6432\n",
      "Epoch 3/100\n",
      "11610/11610 [==============================] - 1s 67us/sample - loss: 0.6399 - val_loss: 0.6103\n",
      "Epoch 4/100\n",
      "11610/11610 [==============================] - 1s 66us/sample - loss: 0.5924 - val_loss: 0.5547\n",
      "Epoch 5/100\n",
      "11610/11610 [==============================] - 1s 65us/sample - loss: 0.5534 - val_loss: 0.5269\n",
      "Epoch 6/100\n",
      "11610/11610 [==============================] - 1s 65us/sample - loss: 0.5197 - val_loss: 0.4813\n",
      "Epoch 7/100\n",
      "11610/11610 [==============================] - 1s 65us/sample - loss: 0.4932 - val_loss: 0.4557\n",
      "Epoch 8/100\n",
      "11610/11610 [==============================] - 1s 65us/sample - loss: 0.4717 - val_loss: 0.4364\n",
      "Epoch 9/100\n",
      "11610/11610 [==============================] - 1s 65us/sample - loss: 0.4538 - val_loss: 0.4388\n",
      "Epoch 10/100\n",
      "11610/11610 [==============================] - 1s 66us/sample - loss: 0.4393 - val_loss: 0.4112\n",
      "Epoch 11/100\n",
      "11610/11610 [==============================] - 1s 65us/sample - loss: 0.4276 - val_loss: 0.4190\n",
      "Epoch 12/100\n",
      "11610/11610 [==============================] - 1s 65us/sample - loss: 0.4181 - val_loss: 0.3897\n",
      "Epoch 13/100\n",
      "11610/11610 [==============================] - 1s 66us/sample - loss: 0.4102 - val_loss: 0.4013\n",
      "Epoch 14/100\n",
      "11610/11610 [==============================] - 1s 66us/sample - loss: 0.4039 - val_loss: 0.3809\n",
      "Epoch 15/100\n",
      "11610/11610 [==============================] - 1s 67us/sample - loss: 0.3979 - val_loss: 0.4078\n",
      "Epoch 16/100\n",
      "11610/11610 [==============================] - 1s 66us/sample - loss: 0.3929 - val_loss: 0.3715\n",
      "Epoch 17/100\n",
      "11610/11610 [==============================] - 1s 65us/sample - loss: 0.3888 - val_loss: 0.4060\n",
      "Epoch 18/100\n",
      "11610/11610 [==============================] - 1s 65us/sample - loss: 0.3846 - val_loss: 0.4103\n",
      "Epoch 19/100\n",
      "11610/11610 [==============================] - 1s 64us/sample - loss: 0.3815 - val_loss: 0.3743\n",
      "Epoch 20/100\n",
      "11610/11610 [==============================] - 1s 65us/sample - loss: 0.3781 - val_loss: 0.4017\n",
      "Epoch 21/100\n",
      "11610/11610 [==============================] - 1s 66us/sample - loss: 0.3757 - val_loss: 0.3673\n",
      "Epoch 22/100\n",
      "11610/11610 [==============================] - 1s 65us/sample - loss: 0.3726 - val_loss: 0.4111\n",
      "Epoch 23/100\n",
      "11610/11610 [==============================] - 1s 64us/sample - loss: 0.3702 - val_loss: 0.4028\n",
      "Epoch 24/100\n",
      "11610/11610 [==============================] - 1s 66us/sample - loss: 0.3683 - val_loss: 0.3657\n",
      "Epoch 25/100\n",
      "11610/11610 [==============================] - 1s 69us/sample - loss: 0.3659 - val_loss: 0.3651\n",
      "Epoch 26/100\n",
      "11610/11610 [==============================] - 1s 66us/sample - loss: 0.3636 - val_loss: 0.4034\n",
      "Epoch 27/100\n",
      "11610/11610 [==============================] - 1s 65us/sample - loss: 0.3622 - val_loss: 0.3988\n",
      "Epoch 28/100\n",
      "11610/11610 [==============================] - 1s 64us/sample - loss: 0.3602 - val_loss: 0.3890\n",
      "Epoch 29/100\n",
      "11610/11610 [==============================] - 1s 65us/sample - loss: 0.3588 - val_loss: 0.3804\n",
      "Epoch 30/100\n",
      "11610/11610 [==============================] - 1s 68us/sample - loss: 0.3573 - val_loss: 0.3603\n",
      "Epoch 31/100\n",
      "11610/11610 [==============================] - 1s 64us/sample - loss: 0.3556 - val_loss: 0.4166\n",
      "Epoch 32/100\n",
      "11610/11610 [==============================] - 1s 65us/sample - loss: 0.3545 - val_loss: 0.3482\n",
      "Epoch 33/100\n",
      "11610/11610 [==============================] - 1s 66us/sample - loss: 0.3532 - val_loss: 0.3452\n",
      "Epoch 34/100\n",
      "11610/11610 [==============================] - 1s 65us/sample - loss: 0.3520 - val_loss: 0.3681\n",
      "Epoch 35/100\n",
      "11610/11610 [==============================] - 1s 65us/sample - loss: 0.3509 - val_loss: 0.3495\n",
      "Epoch 36/100\n",
      "11610/11610 [==============================] - 1s 65us/sample - loss: 0.3496 - val_loss: 0.3358\n",
      "Epoch 37/100\n",
      "11610/11610 [==============================] - 1s 65us/sample - loss: 0.3483 - val_loss: 0.4289\n",
      "Epoch 38/100\n",
      "11610/11610 [==============================] - 1s 65us/sample - loss: 0.3479 - val_loss: 0.4049\n",
      "Epoch 39/100\n",
      "11610/11610 [==============================] - 1s 65us/sample - loss: 0.3470 - val_loss: 0.3439\n",
      "Epoch 40/100\n",
      "11610/11610 [==============================] - 1s 64us/sample - loss: 0.3458 - val_loss: 0.3421\n",
      "Epoch 41/100\n",
      "11610/11610 [==============================] - 1s 65us/sample - loss: 0.3447 - val_loss: 0.3996\n",
      "Epoch 42/100\n",
      "11610/11610 [==============================] - 1s 66us/sample - loss: 0.3445 - val_loss: 0.3275\n",
      "Epoch 43/100\n",
      "11610/11610 [==============================] - 1s 64us/sample - loss: 0.3431 - val_loss: 0.4036\n",
      "Epoch 44/100\n",
      "11610/11610 [==============================] - 1s 65us/sample - loss: 0.3429 - val_loss: 0.3272\n",
      "Epoch 45/100\n",
      "11610/11610 [==============================] - 1s 65us/sample - loss: 0.3415 - val_loss: 0.4305\n",
      "Epoch 46/100\n",
      "11610/11610 [==============================] - 1s 65us/sample - loss: 0.3414 - val_loss: 0.3560\n",
      "Epoch 47/100\n",
      "11610/11610 [==============================] - 1s 65us/sample - loss: 0.3402 - val_loss: 0.3242\n",
      "Epoch 48/100\n",
      "11610/11610 [==============================] - 1s 64us/sample - loss: 0.3397 - val_loss: 0.3368\n",
      "Epoch 49/100\n",
      "11610/11610 [==============================] - 1s 65us/sample - loss: 0.3386 - val_loss: 0.3752\n",
      "Epoch 50/100\n",
      "11610/11610 [==============================] - 1s 65us/sample - loss: 0.3382 - val_loss: 0.3895\n",
      "Epoch 51/100\n",
      "11610/11610 [==============================] - 1s 64us/sample - loss: 0.3377 - val_loss: 0.3729\n",
      "Epoch 52/100\n",
      "11610/11610 [==============================] - 1s 65us/sample - loss: 0.3373 - val_loss: 0.3429\n",
      "Epoch 53/100\n",
      "11610/11610 [==============================] - 1s 65us/sample - loss: 0.3361 - val_loss: 0.4022\n",
      "Epoch 54/100\n",
      "11610/11610 [==============================] - 1s 66us/sample - loss: 0.3358 - val_loss: 0.3200\n",
      "Epoch 55/100\n",
      "11610/11610 [==============================] - 1s 65us/sample - loss: 0.3352 - val_loss: 0.3457\n",
      "Epoch 56/100\n",
      "11610/11610 [==============================] - 1s 64us/sample - loss: 0.3344 - val_loss: 0.3513\n",
      "Epoch 57/100\n",
      "11610/11610 [==============================] - 1s 64us/sample - loss: 0.3338 - val_loss: 0.3789\n",
      "Epoch 58/100\n",
      "11610/11610 [==============================] - 1s 65us/sample - loss: 0.3333 - val_loss: 0.4002\n",
      "Epoch 59/100\n",
      "11610/11610 [==============================] - 1s 65us/sample - loss: 0.3332 - val_loss: 0.3219\n",
      "Epoch 60/100\n",
      "11610/11610 [==============================] - 1s 65us/sample - loss: 0.3321 - val_loss: 0.3831\n",
      "Epoch 61/100\n",
      "11610/11610 [==============================] - 1s 65us/sample - loss: 0.3318 - val_loss: 0.3305\n",
      "Epoch 62/100\n",
      "11610/11610 [==============================] - 1s 65us/sample - loss: 0.3310 - val_loss: 0.3643\n",
      "Epoch 63/100\n",
      "11610/11610 [==============================] - 1s 65us/sample - loss: 0.3308 - val_loss: 0.3486\n",
      "Epoch 64/100\n",
      "11610/11610 [==============================] - 1s 66us/sample - loss: 0.3301 - val_loss: 0.3588\n",
      "Epoch 65/100\n",
      "11610/11610 [==============================] - 1s 67us/sample - loss: 0.3298 - val_loss: 0.3155\n",
      "Epoch 66/100\n",
      "11610/11610 [==============================] - 1s 67us/sample - loss: 0.3291 - val_loss: 0.3343\n",
      "Epoch 67/100\n",
      "11610/11610 [==============================] - 1s 66us/sample - loss: 0.3286 - val_loss: 0.3230\n",
      "Epoch 68/100\n",
      "11610/11610 [==============================] - 1s 65us/sample - loss: 0.3280 - val_loss: 0.3810\n",
      "Epoch 69/100\n",
      "11610/11610 [==============================] - 1s 65us/sample - loss: 0.3276 - val_loss: 0.3146\n",
      "Epoch 70/100\n",
      "11610/11610 [==============================] - 1s 65us/sample - loss: 0.3273 - val_loss: 0.3696\n",
      "Epoch 71/100\n",
      "11610/11610 [==============================] - 1s 65us/sample - loss: 0.3267 - val_loss: 0.3398\n",
      "Epoch 72/100\n",
      "11610/11610 [==============================] - 1s 65us/sample - loss: 0.3264 - val_loss: 0.3532\n",
      "Epoch 73/100\n",
      "11610/11610 [==============================] - 1s 65us/sample - loss: 0.3259 - val_loss: 0.3271\n",
      "Epoch 74/100\n",
      "11610/11610 [==============================] - 1s 65us/sample - loss: 0.3254 - val_loss: 0.3362\n",
      "Epoch 75/100\n",
      "11610/11610 [==============================] - 1s 65us/sample - loss: 0.3249 - val_loss: 0.3500\n"
     ]
    },
    {
     "name": "stdout",
     "output_type": "stream",
     "text": [
      "Epoch 76/100\n",
      "11610/11610 [==============================] - 1s 64us/sample - loss: 0.3245 - val_loss: 0.3515\n",
      "Epoch 77/100\n",
      "11610/11610 [==============================] - 1s 65us/sample - loss: 0.3243 - val_loss: 0.3113\n",
      "Epoch 78/100\n",
      "11610/11610 [==============================] - 1s 64us/sample - loss: 0.3235 - val_loss: 0.3597\n",
      "Epoch 79/100\n",
      "11610/11610 [==============================] - 1s 65us/sample - loss: 0.3235 - val_loss: 0.3298\n",
      "Epoch 80/100\n",
      "11610/11610 [==============================] - 1s 64us/sample - loss: 0.3228 - val_loss: 0.3796\n",
      "Epoch 81/100\n",
      "11610/11610 [==============================] - 1s 65us/sample - loss: 0.3227 - val_loss: 0.3104\n",
      "Epoch 82/100\n",
      "11610/11610 [==============================] - 1s 65us/sample - loss: 0.3220 - val_loss: 0.3525\n",
      "Epoch 83/100\n",
      "11610/11610 [==============================] - 1s 65us/sample - loss: 0.3220 - val_loss: 0.3166\n",
      "Epoch 84/100\n",
      "11610/11610 [==============================] - 1s 64us/sample - loss: 0.3214 - val_loss: 0.3431\n",
      "Epoch 85/100\n",
      "11610/11610 [==============================] - 1s 64us/sample - loss: 0.3211 - val_loss: 0.3209\n",
      "Epoch 86/100\n",
      "11610/11610 [==============================] - 1s 65us/sample - loss: 0.3207 - val_loss: 0.3100\n",
      "Epoch 87/100\n",
      "11610/11610 [==============================] - 1s 64us/sample - loss: 0.3203 - val_loss: 0.3733\n",
      "Epoch 88/100\n",
      "11610/11610 [==============================] - 1s 64us/sample - loss: 0.3198 - val_loss: 0.3559\n",
      "Epoch 89/100\n",
      "11610/11610 [==============================] - 1s 66us/sample - loss: 0.3196 - val_loss: 0.3248\n",
      "Epoch 90/100\n",
      "11610/11610 [==============================] - 1s 65us/sample - loss: 0.3192 - val_loss: 0.3188\n",
      "Epoch 91/100\n",
      "11610/11610 [==============================] - 1s 65us/sample - loss: 0.3189 - val_loss: 0.3129\n",
      "Epoch 92/100\n",
      "11610/11610 [==============================] - 1s 66us/sample - loss: 0.3186 - val_loss: 0.3102\n",
      "Epoch 93/100\n",
      "11610/11610 [==============================] - 1s 64us/sample - loss: 0.3178 - val_loss: 0.3685\n",
      "Epoch 94/100\n",
      "11610/11610 [==============================] - 1s 65us/sample - loss: 0.3179 - val_loss: 0.3146\n",
      "Epoch 95/100\n",
      "11610/11610 [==============================] - 1s 64us/sample - loss: 0.3174 - val_loss: 0.3580\n",
      "Epoch 96/100\n",
      "11610/11610 [==============================] - 1s 65us/sample - loss: 0.3173 - val_loss: 0.3076\n",
      "Epoch 97/100\n",
      "11610/11610 [==============================] - 1s 65us/sample - loss: 0.3168 - val_loss: 0.3210\n",
      "Epoch 98/100\n",
      "11610/11610 [==============================] - 1s 64us/sample - loss: 0.3164 - val_loss: 0.3268\n",
      "Epoch 99/100\n",
      "11610/11610 [==============================] - 1s 65us/sample - loss: 0.3162 - val_loss: 0.3335\n",
      "Epoch 100/100\n",
      "11610/11610 [==============================] - 1s 65us/sample - loss: 0.3157 - val_loss: 0.3056\n"
     ]
    },
    {
     "data": {
      "image/png": "[encoded data removed]",
      "text/plain": [
       "<Figure size 576x360 with 1 Axes>"
      ]
     },
     "metadata": {
      "needs_background": "light"
     },
     "output_type": "display_data"
    },
    {
     "name": "stdout",
     "output_type": "stream",
     "text": [
      "5160/1 - 0s - loss: 0.2288\n",
      "0.3252563142730284\n"
     ]
    }
   ],
   "source": [
    "model = keras.models.Sequential([\n",
    "    keras.layers.Dense(100, activation=\"relu\", input_shape=[8]),\n",
    "    keras.layers.Dense(100, activation=\"relu\"),\n",
    "    keras.layers.Dense(1)\n",
    "])\n",
    "\n",
    "model.compile(loss=\"mse\", optimizer=keras.optimizers.SGD(lr=1e-3))\n",
    "\n",
    "# define a call back\n",
    "checkpoint_cb = keras.callbacks.ModelCheckpoint(\"my_keras_model.h5\", save_best_only=True)\n",
    "\n",
    "\n",
    "history = model.fit(X_train, y_train, epochs=100, \n",
    "                    validation_data=(X_valid, y_valid),\n",
    "                    callbacks=[checkpoint_cb])\n",
    "\n",
    "# plot training curves\n",
    "pd.DataFrame(history.history).plot(figsize=(8, 5))\n",
    "plt.grid(True)\n",
    "plt.gca().set_ylim(0, 1)\n",
    "plt.show()\n",
    "\n",
    "\n",
    "model = keras.models.load_model(\"my_keras_model.h5\") # rollback to best model\n",
    "mse_test = model.evaluate(X_test, y_test, verbose = 2)\n",
    "print(mse_test)"
   ]
  },
  {
   "cell_type": "markdown",
   "metadata": {},
   "source": [
    "### Early stopping"
   ]
  },
  {
   "cell_type": "code",
   "execution_count": 142,
   "metadata": {},
   "outputs": [
    {
     "name": "stdout",
     "output_type": "stream",
     "text": [
      "Train on 11610 samples, validate on 3870 samples\n",
      "Epoch 1/100\n",
      "11610/11610 [==============================] - 1s 103us/sample - loss: 0.3153 - val_loss: 0.3741\n",
      "Epoch 2/100\n",
      "11610/11610 [==============================] - 1s 68us/sample - loss: 0.3154 - val_loss: 0.3052\n",
      "Epoch 3/100\n",
      "11610/11610 [==============================] - 1s 67us/sample - loss: 0.3148 - val_loss: 0.3147\n",
      "Epoch 4/100\n",
      "11610/11610 [==============================] - 1s 68us/sample - loss: 0.3145 - val_loss: 0.3268\n",
      "Epoch 5/100\n",
      "11610/11610 [==============================] - 1s 66us/sample - loss: 0.3142 - val_loss: 0.3032\n",
      "Epoch 6/100\n",
      "11610/11610 [==============================] - 1s 66us/sample - loss: 0.3139 - val_loss: 0.3594\n",
      "Epoch 7/100\n",
      "11610/11610 [==============================] - 1s 66us/sample - loss: 0.3135 - val_loss: 0.3031\n",
      "Epoch 8/100\n",
      "11610/11610 [==============================] - 1s 65us/sample - loss: 0.3132 - val_loss: 0.3990\n",
      "Epoch 9/100\n",
      "11610/11610 [==============================] - 1s 65us/sample - loss: 0.3133 - val_loss: 0.3099\n",
      "Epoch 10/100\n",
      "11610/11610 [==============================] - 1s 65us/sample - loss: 0.3125 - val_loss: 0.3106\n",
      "Epoch 11/100\n",
      "11610/11610 [==============================] - 1s 66us/sample - loss: 0.3122 - val_loss: 0.3532\n",
      "Epoch 12/100\n",
      "11610/11610 [==============================] - 1s 66us/sample - loss: 0.3120 - val_loss: 0.3020\n",
      "Epoch 13/100\n",
      "11610/11610 [==============================] - 1s 66us/sample - loss: 0.3115 - val_loss: 0.3531\n",
      "Epoch 14/100\n",
      "11610/11610 [==============================] - 1s 66us/sample - loss: 0.3116 - val_loss: 0.3022\n",
      "Epoch 15/100\n",
      "11610/11610 [==============================] - 1s 65us/sample - loss: 0.3108 - val_loss: 0.3613\n",
      "Epoch 16/100\n",
      "11610/11610 [==============================] - 1s 66us/sample - loss: 0.3109 - val_loss: 0.3019\n",
      "Epoch 17/100\n",
      "11610/11610 [==============================] - 1s 65us/sample - loss: 0.3106 - val_loss: 0.3564\n",
      "Epoch 18/100\n",
      "11610/11610 [==============================] - 1s 65us/sample - loss: 0.3103 - val_loss: 0.3085\n",
      "Epoch 19/100\n",
      "11610/11610 [==============================] - 1s 66us/sample - loss: 0.3099 - val_loss: 0.3292\n",
      "Epoch 20/100\n",
      "11610/11610 [==============================] - 1s 65us/sample - loss: 0.3098 - val_loss: 0.3104\n",
      "Epoch 21/100\n",
      "11610/11610 [==============================] - 1s 65us/sample - loss: 0.3094 - val_loss: 0.3235\n",
      "Epoch 22/100\n",
      "11610/11610 [==============================] - 1s 65us/sample - loss: 0.3092 - val_loss: 0.3298\n",
      "Epoch 23/100\n",
      "11610/11610 [==============================] - 1s 65us/sample - loss: 0.3087 - val_loss: 0.3212\n",
      "Epoch 24/100\n",
      "11610/11610 [==============================] - 1s 65us/sample - loss: 0.3087 - val_loss: 0.3031\n",
      "Epoch 25/100\n",
      "11610/11610 [==============================] - 1s 65us/sample - loss: 0.3083 - val_loss: 0.3103\n",
      "Epoch 26/100\n",
      "11610/11610 [==============================] - 1s 65us/sample - loss: 0.3078 - val_loss: 0.3531\n",
      "5160/1 - 0s - loss: 0.2204\n"
     ]
    }
   ],
   "source": [
    "model.compile(loss=\"mse\", optimizer=keras.optimizers.SGD(lr=1e-3))\n",
    "early_stopping_cb = keras.callbacks.EarlyStopping(patience=10,\n",
    "                                                  restore_best_weights=True)\n",
    "history = model.fit(X_train, y_train, epochs=100,\n",
    "                    validation_data=(X_valid, y_valid),\n",
    "                    callbacks=[checkpoint_cb, early_stopping_cb])\n",
    "mse_test = model.evaluate(X_test, y_test, verbose = 2)"
   ]
  },
  {
   "cell_type": "markdown",
   "metadata": {},
   "source": [
    "### Exercice\n",
    "Create a netwerok that achieves at least a 90% accuracy with fashion MNIST."
   ]
  },
  {
   "cell_type": "code",
   "execution_count": 149,
   "metadata": {},
   "outputs": [
    {
     "name": "stdout",
     "output_type": "stream",
     "text": [
      "Train on 55000 samples, validate on 5000 samples\n",
      "Epoch 1/150\n",
      "55000/55000 [==============================] - 5s 88us/sample - loss: 0.8438 - accuracy: 0.7117 - val_loss: 0.5649 - val_accuracy: 0.7984\n",
      "Epoch 2/150\n",
      "55000/55000 [==============================] - 4s 79us/sample - loss: 0.5255 - accuracy: 0.8145 - val_loss: 0.5013 - val_accuracy: 0.8226\n",
      "Epoch 3/150\n",
      "55000/55000 [==============================] - 4s 75us/sample - loss: 0.4660 - accuracy: 0.8346 - val_loss: 0.4459 - val_accuracy: 0.8414\n",
      "Epoch 4/150\n",
      "55000/55000 [==============================] - 4s 74us/sample - loss: 0.4363 - accuracy: 0.8444 - val_loss: 0.4079 - val_accuracy: 0.8570\n",
      "Epoch 5/150\n",
      "55000/55000 [==============================] - 4s 74us/sample - loss: 0.4145 - accuracy: 0.8530 - val_loss: 0.4260 - val_accuracy: 0.8448\n",
      "Epoch 6/150\n",
      "55000/55000 [==============================] - 4s 74us/sample - loss: 0.3981 - accuracy: 0.8576 - val_loss: 0.3934 - val_accuracy: 0.8604\n",
      "Epoch 7/150\n",
      "55000/55000 [==============================] - 4s 74us/sample - loss: 0.3848 - accuracy: 0.8616 - val_loss: 0.3837 - val_accuracy: 0.8590\n",
      "Epoch 8/150\n",
      "55000/55000 [==============================] - 4s 74us/sample - loss: 0.3727 - accuracy: 0.8657 - val_loss: 0.3864 - val_accuracy: 0.8668\n",
      "Epoch 9/150\n",
      "55000/55000 [==============================] - 4s 74us/sample - loss: 0.3618 - accuracy: 0.8689 - val_loss: 0.3764 - val_accuracy: 0.8638\n",
      "Epoch 10/150\n",
      "55000/55000 [==============================] - 4s 74us/sample - loss: 0.3531 - accuracy: 0.8725 - val_loss: 0.3629 - val_accuracy: 0.8696\n",
      "Epoch 11/150\n",
      "55000/55000 [==============================] - 4s 74us/sample - loss: 0.3454 - accuracy: 0.8759 - val_loss: 0.3559 - val_accuracy: 0.8720\n",
      "Epoch 12/150\n",
      "55000/55000 [==============================] - 4s 76us/sample - loss: 0.3386 - accuracy: 0.8779 - val_loss: 0.3625 - val_accuracy: 0.8700\n",
      "Epoch 13/150\n",
      "55000/55000 [==============================] - 4s 76us/sample - loss: 0.3320 - accuracy: 0.8791 - val_loss: 0.3445 - val_accuracy: 0.8710\n",
      "Epoch 14/150\n",
      "55000/55000 [==============================] - 4s 76us/sample - loss: 0.3264 - accuracy: 0.8815 - val_loss: 0.3385 - val_accuracy: 0.8720\n",
      "Epoch 15/150\n",
      "55000/55000 [==============================] - 4s 77us/sample - loss: 0.3206 - accuracy: 0.8839 - val_loss: 0.3377 - val_accuracy: 0.8772\n",
      "Epoch 16/150\n",
      "55000/55000 [==============================] - 4s 76us/sample - loss: 0.3155 - accuracy: 0.8846 - val_loss: 0.3443 - val_accuracy: 0.8748\n",
      "Epoch 17/150\n",
      "55000/55000 [==============================] - 4s 76us/sample - loss: 0.3097 - accuracy: 0.8867 - val_loss: 0.3314 - val_accuracy: 0.8780\n",
      "Epoch 18/150\n",
      "55000/55000 [==============================] - 4s 77us/sample - loss: 0.3053 - accuracy: 0.8884 - val_loss: 0.3423 - val_accuracy: 0.8754\n",
      "Epoch 19/150\n",
      "55000/55000 [==============================] - 4s 74us/sample - loss: 0.3014 - accuracy: 0.8897 - val_loss: 0.3753 - val_accuracy: 0.8644\n",
      "Epoch 20/150\n",
      "55000/55000 [==============================] - 4s 75us/sample - loss: 0.2981 - accuracy: 0.8902 - val_loss: 0.3253 - val_accuracy: 0.8780\n",
      "Epoch 21/150\n",
      "55000/55000 [==============================] - 4s 75us/sample - loss: 0.2936 - accuracy: 0.8927 - val_loss: 0.3367 - val_accuracy: 0.8770\n",
      "Epoch 22/150\n",
      "55000/55000 [==============================] - 4s 74us/sample - loss: 0.2904 - accuracy: 0.8941 - val_loss: 0.3537 - val_accuracy: 0.8718\n",
      "Epoch 23/150\n",
      "55000/55000 [==============================] - 4s 74us/sample - loss: 0.2873 - accuracy: 0.8953 - val_loss: 0.3174 - val_accuracy: 0.8842\n",
      "Epoch 24/150\n",
      "55000/55000 [==============================] - 4s 74us/sample - loss: 0.2828 - accuracy: 0.8960 - val_loss: 0.3224 - val_accuracy: 0.8826\n",
      "Epoch 25/150\n",
      "55000/55000 [==============================] - 4s 74us/sample - loss: 0.2799 - accuracy: 0.8971 - val_loss: 0.3466 - val_accuracy: 0.8720\n",
      "Epoch 26/150\n",
      "55000/55000 [==============================] - 4s 74us/sample - loss: 0.2764 - accuracy: 0.8983 - val_loss: 0.3381 - val_accuracy: 0.8774\n",
      "Epoch 27/150\n",
      "55000/55000 [==============================] - 4s 74us/sample - loss: 0.2728 - accuracy: 0.9005 - val_loss: 0.3245 - val_accuracy: 0.8838\n",
      "Epoch 28/150\n",
      "55000/55000 [==============================] - 4s 74us/sample - loss: 0.2701 - accuracy: 0.9012 - val_loss: 0.3099 - val_accuracy: 0.8858\n",
      "Epoch 29/150\n",
      "55000/55000 [==============================] - 4s 74us/sample - loss: 0.2678 - accuracy: 0.9012 - val_loss: 0.3152 - val_accuracy: 0.8830\n",
      "Epoch 30/150\n",
      "55000/55000 [==============================] - 4s 74us/sample - loss: 0.2643 - accuracy: 0.9024 - val_loss: 0.3254 - val_accuracy: 0.8824\n",
      "Epoch 31/150\n",
      "55000/55000 [==============================] - 4s 74us/sample - loss: 0.2610 - accuracy: 0.9050 - val_loss: 0.3178 - val_accuracy: 0.8816\n",
      "Epoch 32/150\n",
      "55000/55000 [==============================] - 4s 74us/sample - loss: 0.2582 - accuracy: 0.9049 - val_loss: 0.3400 - val_accuracy: 0.8774\n",
      "Epoch 33/150\n",
      "55000/55000 [==============================] - 4s 74us/sample - loss: 0.2555 - accuracy: 0.9064 - val_loss: 0.3112 - val_accuracy: 0.8850\n",
      "Epoch 34/150\n",
      "55000/55000 [==============================] - 4s 74us/sample - loss: 0.2536 - accuracy: 0.9069 - val_loss: 0.3102 - val_accuracy: 0.8910\n",
      "Epoch 35/150\n",
      "55000/55000 [==============================] - 4s 74us/sample - loss: 0.2504 - accuracy: 0.9083 - val_loss: 0.3139 - val_accuracy: 0.8858\n",
      "Epoch 36/150\n",
      "55000/55000 [==============================] - 4s 74us/sample - loss: 0.2481 - accuracy: 0.9091 - val_loss: 0.3305 - val_accuracy: 0.8794\n",
      "Epoch 37/150\n",
      "55000/55000 [==============================] - 4s 75us/sample - loss: 0.2452 - accuracy: 0.9104 - val_loss: 0.3171 - val_accuracy: 0.8838\n",
      "Epoch 38/150\n",
      "55000/55000 [==============================] - 4s 74us/sample - loss: 0.2441 - accuracy: 0.9096 - val_loss: 0.3207 - val_accuracy: 0.8844\n",
      "Epoch 39/150\n",
      "55000/55000 [==============================] - 4s 74us/sample - loss: 0.2411 - accuracy: 0.9125 - val_loss: 0.3216 - val_accuracy: 0.8844\n",
      "Epoch 40/150\n",
      "55000/55000 [==============================] - 4s 76us/sample - loss: 0.2387 - accuracy: 0.9132 - val_loss: 0.3091 - val_accuracy: 0.8866\n",
      "Epoch 41/150\n",
      "55000/55000 [==============================] - 4s 76us/sample - loss: 0.2365 - accuracy: 0.9137 - val_loss: 0.3411 - val_accuracy: 0.8776\n",
      "Epoch 42/150\n",
      "55000/55000 [==============================] - 4s 76us/sample - loss: 0.2337 - accuracy: 0.9139 - val_loss: 0.3128 - val_accuracy: 0.8850\n",
      "Epoch 43/150\n",
      "55000/55000 [==============================] - 4s 75us/sample - loss: 0.2312 - accuracy: 0.9158 - val_loss: 0.3404 - val_accuracy: 0.8766\n",
      "Epoch 44/150\n",
      "55000/55000 [==============================] - 4s 75us/sample - loss: 0.2294 - accuracy: 0.9156 - val_loss: 0.3298 - val_accuracy: 0.8792\n",
      "Epoch 45/150\n",
      "55000/55000 [==============================] - 4s 75us/sample - loss: 0.2279 - accuracy: 0.9161 - val_loss: 0.3138 - val_accuracy: 0.8850\n",
      "Epoch 46/150\n",
      "55000/55000 [==============================] - 4s 75us/sample - loss: 0.2266 - accuracy: 0.9168 - val_loss: 0.3082 - val_accuracy: 0.8916\n",
      "Epoch 47/150\n",
      "55000/55000 [==============================] - 4s 75us/sample - loss: 0.2241 - accuracy: 0.9170 - val_loss: 0.3085 - val_accuracy: 0.8898\n",
      "Epoch 48/150\n",
      "55000/55000 [==============================] - 4s 76us/sample - loss: 0.2219 - accuracy: 0.9189 - val_loss: 0.3213 - val_accuracy: 0.8888\n",
      "Epoch 49/150\n",
      "55000/55000 [==============================] - 4s 75us/sample - loss: 0.2197 - accuracy: 0.9187 - val_loss: 0.3242 - val_accuracy: 0.8838\n",
      "Epoch 50/150\n",
      "55000/55000 [==============================] - 4s 76us/sample - loss: 0.2179 - accuracy: 0.9209 - val_loss: 0.3233 - val_accuracy: 0.8836\n",
      "Epoch 51/150\n",
      "55000/55000 [==============================] - 4s 75us/sample - loss: 0.2169 - accuracy: 0.9209 - val_loss: 0.3331 - val_accuracy: 0.8864\n",
      "Epoch 52/150\n",
      "55000/55000 [==============================] - 4s 76us/sample - loss: 0.2149 - accuracy: 0.9202 - val_loss: 0.3284 - val_accuracy: 0.8866\n",
      "Epoch 53/150\n",
      "55000/55000 [==============================] - 4s 75us/sample - loss: 0.2131 - accuracy: 0.9229 - val_loss: 0.3170 - val_accuracy: 0.8898\n",
      "Epoch 54/150\n",
      "55000/55000 [==============================] - 4s 75us/sample - loss: 0.2117 - accuracy: 0.9225 - val_loss: 0.3228 - val_accuracy: 0.8878\n"
     ]
    },
    {
     "name": "stdout",
     "output_type": "stream",
     "text": [
      "Epoch 55/150\n",
      "55000/55000 [==============================] - 4s 75us/sample - loss: 0.2092 - accuracy: 0.9242 - val_loss: 0.3253 - val_accuracy: 0.8846\n",
      "Epoch 56/150\n",
      "55000/55000 [==============================] - 4s 75us/sample - loss: 0.2075 - accuracy: 0.9233 - val_loss: 0.3320 - val_accuracy: 0.8856\n",
      "Epoch 57/150\n",
      "55000/55000 [==============================] - 4s 75us/sample - loss: 0.2062 - accuracy: 0.9239 - val_loss: 0.3247 - val_accuracy: 0.8902\n",
      "Epoch 58/150\n",
      "55000/55000 [==============================] - 4s 75us/sample - loss: 0.2036 - accuracy: 0.9250 - val_loss: 0.3136 - val_accuracy: 0.8906\n",
      "Epoch 59/150\n",
      "55000/55000 [==============================] - 4s 75us/sample - loss: 0.2028 - accuracy: 0.9256 - val_loss: 0.3315 - val_accuracy: 0.8872\n",
      "Epoch 60/150\n",
      "55000/55000 [==============================] - 4s 75us/sample - loss: 0.2000 - accuracy: 0.9269 - val_loss: 0.3244 - val_accuracy: 0.8900\n",
      "Epoch 61/150\n",
      "55000/55000 [==============================] - 4s 76us/sample - loss: 0.2009 - accuracy: 0.9262 - val_loss: 0.3298 - val_accuracy: 0.8872\n",
      "Epoch 62/150\n",
      "55000/55000 [==============================] - 4s 75us/sample - loss: 0.1987 - accuracy: 0.9272 - val_loss: 0.3256 - val_accuracy: 0.8882\n",
      "Epoch 63/150\n",
      "55000/55000 [==============================] - 4s 75us/sample - loss: 0.1956 - accuracy: 0.9291 - val_loss: 0.3214 - val_accuracy: 0.8934\n",
      "Epoch 64/150\n",
      "55000/55000 [==============================] - 4s 75us/sample - loss: 0.1942 - accuracy: 0.9282 - val_loss: 0.3274 - val_accuracy: 0.8902\n",
      "Epoch 65/150\n",
      "55000/55000 [==============================] - 4s 75us/sample - loss: 0.1931 - accuracy: 0.9284 - val_loss: 0.3325 - val_accuracy: 0.8870\n",
      "Epoch 66/150\n",
      "55000/55000 [==============================] - 4s 75us/sample - loss: 0.1924 - accuracy: 0.9286 - val_loss: 0.3266 - val_accuracy: 0.8884\n",
      "Epoch 67/150\n",
      "55000/55000 [==============================] - 4s 75us/sample - loss: 0.1903 - accuracy: 0.9305 - val_loss: 0.3249 - val_accuracy: 0.8940\n",
      "Epoch 68/150\n",
      "55000/55000 [==============================] - 4s 75us/sample - loss: 0.1881 - accuracy: 0.9302 - val_loss: 0.3210 - val_accuracy: 0.8892\n",
      "Epoch 69/150\n",
      "55000/55000 [==============================] - 4s 75us/sample - loss: 0.1866 - accuracy: 0.9319 - val_loss: 0.3282 - val_accuracy: 0.8878\n",
      "Epoch 70/150\n",
      "55000/55000 [==============================] - 4s 75us/sample - loss: 0.1862 - accuracy: 0.9327 - val_loss: 0.3764 - val_accuracy: 0.8696\n",
      "Epoch 71/150\n",
      "55000/55000 [==============================] - 4s 75us/sample - loss: 0.1838 - accuracy: 0.9324 - val_loss: 0.3164 - val_accuracy: 0.8936\n",
      "Epoch 72/150\n",
      "55000/55000 [==============================] - 4s 75us/sample - loss: 0.1833 - accuracy: 0.9333 - val_loss: 0.3277 - val_accuracy: 0.8894\n",
      "Epoch 73/150\n",
      "55000/55000 [==============================] - 4s 75us/sample - loss: 0.1825 - accuracy: 0.9337 - val_loss: 0.3268 - val_accuracy: 0.8940\n",
      "Epoch 74/150\n",
      "55000/55000 [==============================] - 4s 75us/sample - loss: 0.1807 - accuracy: 0.9343 - val_loss: 0.3461 - val_accuracy: 0.8862\n",
      "Epoch 75/150\n",
      "55000/55000 [==============================] - 4s 75us/sample - loss: 0.1789 - accuracy: 0.9353 - val_loss: 0.3338 - val_accuracy: 0.8920\n",
      "Epoch 76/150\n",
      "55000/55000 [==============================] - 4s 75us/sample - loss: 0.1779 - accuracy: 0.9340 - val_loss: 0.3379 - val_accuracy: 0.8902\n",
      "Epoch 77/150\n",
      "55000/55000 [==============================] - 4s 75us/sample - loss: 0.1766 - accuracy: 0.9353 - val_loss: 0.3956 - val_accuracy: 0.8704\n",
      "Epoch 78/150\n",
      "55000/55000 [==============================] - 4s 75us/sample - loss: 0.1748 - accuracy: 0.9362 - val_loss: 0.3327 - val_accuracy: 0.8930\n",
      "Epoch 79/150\n",
      "55000/55000 [==============================] - 4s 75us/sample - loss: 0.1745 - accuracy: 0.9358 - val_loss: 0.3345 - val_accuracy: 0.8910\n",
      "Epoch 80/150\n",
      "55000/55000 [==============================] - 4s 75us/sample - loss: 0.1727 - accuracy: 0.9366 - val_loss: 0.3513 - val_accuracy: 0.8896\n",
      "Epoch 81/150\n",
      "55000/55000 [==============================] - 4s 76us/sample - loss: 0.1719 - accuracy: 0.9370 - val_loss: 0.3480 - val_accuracy: 0.8868\n",
      "Epoch 82/150\n",
      "55000/55000 [==============================] - 4s 76us/sample - loss: 0.1684 - accuracy: 0.9393 - val_loss: 0.3441 - val_accuracy: 0.8910\n",
      "Epoch 83/150\n",
      "55000/55000 [==============================] - 4s 75us/sample - loss: 0.1691 - accuracy: 0.9387 - val_loss: 0.3523 - val_accuracy: 0.8910\n",
      "Epoch 84/150\n",
      "55000/55000 [==============================] - 4s 76us/sample - loss: 0.1671 - accuracy: 0.9378 - val_loss: 0.3538 - val_accuracy: 0.8912\n",
      "Epoch 85/150\n",
      "55000/55000 [==============================] - 4s 76us/sample - loss: 0.1672 - accuracy: 0.9384 - val_loss: 0.3532 - val_accuracy: 0.8876\n",
      "Epoch 86/150\n",
      "55000/55000 [==============================] - 4s 76us/sample - loss: 0.1665 - accuracy: 0.9391 - val_loss: 0.3541 - val_accuracy: 0.8910\n",
      "Epoch 87/150\n",
      "55000/55000 [==============================] - 4s 76us/sample - loss: 0.1638 - accuracy: 0.9401 - val_loss: 0.3551 - val_accuracy: 0.8916\n",
      "Epoch 88/150\n",
      "55000/55000 [==============================] - 4s 76us/sample - loss: 0.1628 - accuracy: 0.9409 - val_loss: 0.3711 - val_accuracy: 0.8870\n",
      "Epoch 89/150\n",
      "55000/55000 [==============================] - 4s 75us/sample - loss: 0.1609 - accuracy: 0.9413 - val_loss: 0.3644 - val_accuracy: 0.8888\n",
      "Epoch 90/150\n",
      "55000/55000 [==============================] - 4s 76us/sample - loss: 0.1611 - accuracy: 0.9408 - val_loss: 0.3486 - val_accuracy: 0.8936\n",
      "Epoch 91/150\n",
      "55000/55000 [==============================] - 4s 75us/sample - loss: 0.1592 - accuracy: 0.9419 - val_loss: 0.3727 - val_accuracy: 0.8876\n",
      "Epoch 92/150\n",
      "55000/55000 [==============================] - 4s 75us/sample - loss: 0.1578 - accuracy: 0.9432 - val_loss: 0.3500 - val_accuracy: 0.8912\n",
      "Epoch 93/150\n",
      "55000/55000 [==============================] - 4s 75us/sample - loss: 0.1571 - accuracy: 0.9417 - val_loss: 0.3853 - val_accuracy: 0.8888\n",
      "Epoch 94/150\n",
      "55000/55000 [==============================] - 4s 75us/sample - loss: 0.1559 - accuracy: 0.9430 - val_loss: 0.3649 - val_accuracy: 0.8896\n",
      "Epoch 95/150\n",
      "55000/55000 [==============================] - 4s 75us/sample - loss: 0.1557 - accuracy: 0.9436 - val_loss: 0.3749 - val_accuracy: 0.8870\n",
      "Epoch 96/150\n",
      "55000/55000 [==============================] - 4s 75us/sample - loss: 0.1532 - accuracy: 0.9444 - val_loss: 0.3704 - val_accuracy: 0.8872\n",
      "Epoch 97/150\n",
      "55000/55000 [==============================] - 4s 75us/sample - loss: 0.1536 - accuracy: 0.9441 - val_loss: 0.3735 - val_accuracy: 0.8874\n",
      "Epoch 98/150\n",
      "55000/55000 [==============================] - 4s 75us/sample - loss: 0.1528 - accuracy: 0.9436 - val_loss: 0.3851 - val_accuracy: 0.8830\n",
      "Epoch 99/150\n",
      "55000/55000 [==============================] - 4s 75us/sample - loss: 0.1499 - accuracy: 0.9447 - val_loss: 0.3998 - val_accuracy: 0.8828\n",
      "Epoch 100/150\n",
      "55000/55000 [==============================] - 4s 75us/sample - loss: 0.1501 - accuracy: 0.9454 - val_loss: 0.3830 - val_accuracy: 0.8822\n",
      "Epoch 101/150\n",
      "55000/55000 [==============================] - 4s 75us/sample - loss: 0.1483 - accuracy: 0.9453 - val_loss: 0.4029 - val_accuracy: 0.8780\n",
      "Epoch 102/150\n",
      "55000/55000 [==============================] - 4s 75us/sample - loss: 0.1487 - accuracy: 0.9452 - val_loss: 0.3665 - val_accuracy: 0.8902\n",
      "Epoch 103/150\n",
      "55000/55000 [==============================] - 4s 75us/sample - loss: 0.1475 - accuracy: 0.9466 - val_loss: 0.3805 - val_accuracy: 0.8898\n",
      "Epoch 104/150\n",
      "55000/55000 [==============================] - 4s 75us/sample - loss: 0.1472 - accuracy: 0.9449 - val_loss: 0.3692 - val_accuracy: 0.8882\n",
      "Epoch 105/150\n",
      "55000/55000 [==============================] - 4s 75us/sample - loss: 0.1448 - accuracy: 0.9474 - val_loss: 0.3877 - val_accuracy: 0.8884\n",
      "Epoch 106/150\n",
      "55000/55000 [==============================] - 4s 75us/sample - loss: 0.1436 - accuracy: 0.9469 - val_loss: 0.4216 - val_accuracy: 0.8790\n",
      "Epoch 107/150\n",
      "55000/55000 [==============================] - 4s 75us/sample - loss: 0.1421 - accuracy: 0.9481 - val_loss: 0.3755 - val_accuracy: 0.8912\n",
      "Epoch 108/150\n",
      "55000/55000 [==============================] - 4s 75us/sample - loss: 0.1417 - accuracy: 0.9480 - val_loss: 0.4184 - val_accuracy: 0.8810\n",
      "Epoch 109/150\n"
     ]
    },
    {
     "name": "stdout",
     "output_type": "stream",
     "text": [
      "55000/55000 [==============================] - 4s 77us/sample - loss: 0.1405 - accuracy: 0.9487 - val_loss: 0.3921 - val_accuracy: 0.8846\n",
      "Epoch 110/150\n",
      "55000/55000 [==============================] - 4s 76us/sample - loss: 0.1401 - accuracy: 0.9484 - val_loss: 0.3736 - val_accuracy: 0.8882\n",
      "Epoch 111/150\n",
      "55000/55000 [==============================] - 4s 75us/sample - loss: 0.1404 - accuracy: 0.9479 - val_loss: 0.3652 - val_accuracy: 0.8944\n",
      "Epoch 112/150\n",
      "55000/55000 [==============================] - 4s 75us/sample - loss: 0.1384 - accuracy: 0.9496 - val_loss: 0.4108 - val_accuracy: 0.8832\n",
      "Epoch 113/150\n",
      "55000/55000 [==============================] - 4s 75us/sample - loss: 0.1360 - accuracy: 0.9512 - val_loss: 0.3920 - val_accuracy: 0.8864\n",
      "Epoch 114/150\n",
      "55000/55000 [==============================] - 4s 75us/sample - loss: 0.1363 - accuracy: 0.9498 - val_loss: 0.4166 - val_accuracy: 0.8700\n",
      "Epoch 115/150\n",
      "55000/55000 [==============================] - 4s 76us/sample - loss: 0.1353 - accuracy: 0.9500 - val_loss: 0.4045 - val_accuracy: 0.8884\n",
      "Epoch 116/150\n",
      "55000/55000 [==============================] - 4s 75us/sample - loss: 0.1347 - accuracy: 0.9509 - val_loss: 0.4162 - val_accuracy: 0.8898\n",
      "Epoch 117/150\n",
      "55000/55000 [==============================] - 4s 75us/sample - loss: 0.1350 - accuracy: 0.9503 - val_loss: 0.4007 - val_accuracy: 0.8894\n",
      "Epoch 118/150\n",
      "55000/55000 [==============================] - 4s 75us/sample - loss: 0.1336 - accuracy: 0.9510 - val_loss: 0.3945 - val_accuracy: 0.8842\n",
      "Epoch 119/150\n",
      "55000/55000 [==============================] - 4s 75us/sample - loss: 0.1326 - accuracy: 0.9507 - val_loss: 0.4157 - val_accuracy: 0.8878\n",
      "Epoch 120/150\n",
      "55000/55000 [==============================] - 4s 75us/sample - loss: 0.1314 - accuracy: 0.9513 - val_loss: 0.4026 - val_accuracy: 0.8892\n",
      "Epoch 121/150\n",
      "55000/55000 [==============================] - 4s 75us/sample - loss: 0.1303 - accuracy: 0.9525 - val_loss: 0.4139 - val_accuracy: 0.8894\n",
      "Epoch 122/150\n",
      "55000/55000 [==============================] - 4s 75us/sample - loss: 0.1286 - accuracy: 0.9537 - val_loss: 0.3962 - val_accuracy: 0.8946\n",
      "Epoch 123/150\n",
      "55000/55000 [==============================] - 4s 75us/sample - loss: 0.1281 - accuracy: 0.9529 - val_loss: 0.4218 - val_accuracy: 0.8856\n",
      "Epoch 124/150\n",
      "55000/55000 [==============================] - 4s 75us/sample - loss: 0.1292 - accuracy: 0.9521 - val_loss: 0.3939 - val_accuracy: 0.8912\n",
      "Epoch 125/150\n",
      "55000/55000 [==============================] - 4s 75us/sample - loss: 0.1279 - accuracy: 0.9533 - val_loss: 0.4410 - val_accuracy: 0.8922\n",
      "Epoch 126/150\n",
      "55000/55000 [==============================] - 4s 75us/sample - loss: 0.1268 - accuracy: 0.9540 - val_loss: 0.4272 - val_accuracy: 0.8874\n",
      "Epoch 127/150\n",
      "55000/55000 [==============================] - 4s 75us/sample - loss: 0.1250 - accuracy: 0.9547 - val_loss: 0.4138 - val_accuracy: 0.8882\n",
      "Epoch 128/150\n",
      "55000/55000 [==============================] - 4s 75us/sample - loss: 0.1247 - accuracy: 0.9550 - val_loss: 0.4270 - val_accuracy: 0.8884\n",
      "Epoch 129/150\n",
      "55000/55000 [==============================] - 4s 75us/sample - loss: 0.1223 - accuracy: 0.9559 - val_loss: 0.4411 - val_accuracy: 0.8828\n",
      "Epoch 130/150\n",
      "55000/55000 [==============================] - 4s 75us/sample - loss: 0.1237 - accuracy: 0.9543 - val_loss: 0.4406 - val_accuracy: 0.8816\n",
      "Epoch 131/150\n",
      "55000/55000 [==============================] - 4s 75us/sample - loss: 0.1224 - accuracy: 0.9555 - val_loss: 0.4317 - val_accuracy: 0.8834\n",
      "Epoch 132/150\n",
      "55000/55000 [==============================] - 4s 75us/sample - loss: 0.1214 - accuracy: 0.9551 - val_loss: 0.4411 - val_accuracy: 0.8810\n",
      "Epoch 133/150\n",
      "55000/55000 [==============================] - 4s 75us/sample - loss: 0.1214 - accuracy: 0.9565 - val_loss: 0.4344 - val_accuracy: 0.8848\n",
      "Epoch 134/150\n",
      "55000/55000 [==============================] - 4s 75us/sample - loss: 0.1206 - accuracy: 0.9565 - val_loss: 0.4382 - val_accuracy: 0.8904\n",
      "Epoch 135/150\n",
      "55000/55000 [==============================] - 4s 75us/sample - loss: 0.1193 - accuracy: 0.9559 - val_loss: 0.4317 - val_accuracy: 0.8902\n",
      "Epoch 136/150\n",
      "55000/55000 [==============================] - 4s 75us/sample - loss: 0.1178 - accuracy: 0.9570 - val_loss: 0.4389 - val_accuracy: 0.8872\n",
      "Epoch 137/150\n",
      "55000/55000 [==============================] - 4s 75us/sample - loss: 0.1162 - accuracy: 0.9578 - val_loss: 0.4325 - val_accuracy: 0.8822\n",
      "Epoch 138/150\n",
      "55000/55000 [==============================] - 4s 75us/sample - loss: 0.1168 - accuracy: 0.9569 - val_loss: 0.4417 - val_accuracy: 0.8786\n",
      "Epoch 139/150\n",
      "55000/55000 [==============================] - 4s 76us/sample - loss: 0.1169 - accuracy: 0.9579 - val_loss: 0.4533 - val_accuracy: 0.8874\n",
      "Epoch 140/150\n",
      "55000/55000 [==============================] - 4s 76us/sample - loss: 0.1156 - accuracy: 0.9585 - val_loss: 0.4602 - val_accuracy: 0.8846\n",
      "Epoch 141/150\n",
      "55000/55000 [==============================] - 4s 75us/sample - loss: 0.1147 - accuracy: 0.9579 - val_loss: 0.4473 - val_accuracy: 0.8890\n",
      "Epoch 142/150\n",
      "55000/55000 [==============================] - 4s 75us/sample - loss: 0.1133 - accuracy: 0.9582 - val_loss: 0.4785 - val_accuracy: 0.8800\n",
      "Epoch 143/150\n",
      "55000/55000 [==============================] - 4s 75us/sample - loss: 0.1111 - accuracy: 0.9608 - val_loss: 0.4569 - val_accuracy: 0.8848\n",
      "Epoch 144/150\n",
      "55000/55000 [==============================] - 4s 75us/sample - loss: 0.1124 - accuracy: 0.9589 - val_loss: 0.4651 - val_accuracy: 0.8892\n",
      "Epoch 145/150\n",
      "55000/55000 [==============================] - 4s 75us/sample - loss: 0.1105 - accuracy: 0.9594 - val_loss: 0.4797 - val_accuracy: 0.8830\n",
      "Epoch 146/150\n",
      "55000/55000 [==============================] - 4s 75us/sample - loss: 0.1132 - accuracy: 0.9588 - val_loss: 0.4832 - val_accuracy: 0.8754\n",
      "Epoch 147/150\n",
      "55000/55000 [==============================] - 4s 75us/sample - loss: 0.1125 - accuracy: 0.9583 - val_loss: 0.4901 - val_accuracy: 0.8838\n",
      "Epoch 148/150\n",
      "55000/55000 [==============================] - 4s 75us/sample - loss: 0.1096 - accuracy: 0.9591 - val_loss: 0.4679 - val_accuracy: 0.8866\n",
      "Epoch 149/150\n",
      "55000/55000 [==============================] - 4s 76us/sample - loss: 0.1094 - accuracy: 0.9600 - val_loss: 0.4594 - val_accuracy: 0.8898\n",
      "Epoch 150/150\n",
      "55000/55000 [==============================] - 4s 75us/sample - loss: 0.1073 - accuracy: 0.9613 - val_loss: 0.4846 - val_accuracy: 0.8856\n"
     ]
    },
    {
     "data": {
      "image/png": "[encoded data removed]",
      "text/plain": [
       "<Figure size 576x360 with 1 Axes>"
      ]
     },
     "metadata": {
      "needs_background": "light"
     },
     "output_type": "display_data"
    },
    {
     "name": "stdout",
     "output_type": "stream",
     "text": [
      "10000/1 - 0s - loss: 0.6953 - accuracy: 0.8763\n"
     ]
    },
    {
     "data": {
      "text/plain": [
       "[0.5307623108625412, 0.8763]"
      ]
     },
     "execution_count": 149,
     "metadata": {},
     "output_type": "execute_result"
    }
   ],
   "source": [
    "# data\n",
    "fashion_mnist = keras.datasets.fashion_mnist\n",
    "(X_train_full, y_train_full), (X_test, y_test) = fashion_mnist.load_data()\n",
    "\n",
    "X_valid, X_train = X_train_full[:5000] / 255., X_train_full[5000:] / 255.\n",
    "y_valid, y_train = y_train_full[:5000], y_train_full[5000:]\n",
    "X_test = X_test / 255.\n",
    "\n",
    "\n",
    "# create the model\n",
    "model = keras.models.Sequential()\n",
    "model.add(keras.layers.Flatten(input_shape=[28, 28]))\n",
    "model.add(keras.layers.Dense(50, activation=\"relu\"))\n",
    "model.add(keras.layers.Dense(50, activation=\"relu\"))\n",
    "model.add(keras.layers.Dense(50, activation=\"relu\"))\n",
    "model.add(keras.layers.Dense(10, activation=\"softmax\"))\n",
    "\n",
    "# define loss function, optimizer and metrics\n",
    "model.compile(loss=\"sparse_categorical_crossentropy\",\n",
    "              optimizer=\"sgd\",\n",
    "              metrics=[\"accuracy\"])\n",
    "\n",
    "# train the model and validate using val data\n",
    "history = model.fit(X_train, y_train, epochs=150,\n",
    "                    validation_data=(X_valid, y_valid))\n",
    "\n",
    "# plot training curves\n",
    "pd.DataFrame(history.history).plot(figsize=(8, 5))\n",
    "plt.grid(True)\n",
    "plt.gca().set_ylim(0, 1)\n",
    "plt.show()\n",
    "\n",
    "# evaluate the model using test data\n",
    "model.evaluate(X_test, y_test,verbose=2)"
   ]
  },
  {
   "cell_type": "code",
   "execution_count": null,
   "metadata": {},
   "outputs": [],
   "source": []
  }
 ],
 "metadata": {
  "kernelspec": {
   "display_name": "Python 3",
   "language": "python",
   "name": "python3"
  },
  "language_info": {
   "codemirror_mode": {
    "name": "ipython",
    "version": 3
   },
   "file_extension": ".py",
   "mimetype": "text/x-python",
   "name": "python",
   "nbconvert_exporter": "python",
   "pygments_lexer": "ipython3",
   "version": "3.7.7"
  }
 },
 "nbformat": 4,
 "nbformat_minor": 4
}
